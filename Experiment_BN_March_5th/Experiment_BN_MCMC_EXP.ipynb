{
 "cells": [
  {
   "cell_type": "code",
   "execution_count": 39,
   "metadata": {
    "collapsed": true
   },
   "outputs": [],
   "source": [
    "import sys\n",
    "sys.path.insert(0, '../BO')"
   ]
  },
  {
   "cell_type": "code",
   "execution_count": 40,
   "metadata": {
    "collapsed": true
   },
   "outputs": [],
   "source": [
    "from gp import *\n",
    "import numpy as np\n",
    "from sklearn.datasets import fetch_mldata\n",
    "from BN import *"
   ]
  },
  {
   "cell_type": "code",
   "execution_count": 41,
   "metadata": {
    "collapsed": true
   },
   "outputs": [],
   "source": [
    "# Load and format the training and testing data\n",
    "mnist = fetch_mldata('MNIST original')"
   ]
  },
  {
   "cell_type": "code",
   "execution_count": 42,
   "metadata": {
    "collapsed": true
   },
   "outputs": [],
   "source": [
    "BN = BN(mnist)"
   ]
  },
  {
   "cell_type": "code",
   "execution_count": 43,
   "metadata": {
    "collapsed": true
   },
   "outputs": [],
   "source": [
    "loss = BN.train_bayesian_nn"
   ]
  },
  {
   "cell_type": "code",
   "execution_count": 44,
   "metadata": {
    "collapsed": true
   },
   "outputs": [],
   "source": [
    "bounds = np.array([[-15., 0.0], [5., 150.], [5., 2000.], [1., 5.], [0.00001, 1.], [0.00001, 1.], [0.00001, 1.], [0.00001, 2.], [0.00001, 2.]])\n",
    "# maxeps specifies how many BOs we want to run\n",
    "maxeps = 6\n",
    "# n_iters is number of iterations we want for each run of BO\n",
    "n_iters = 100\n",
    "acqui_eva_num = 5\n",
    "greater_is_better = False\n",
    "n_pre_samples = 5\n",
    "coor_sigma = 1 * np.array([0.2,0.2,0.2,0.2,0.2,0.2,0.2,0.2,0.2,0.2,0.2])\n",
    "burn_in = 20\n",
    "input_dimension = 9\n",
    "mode = 'MAP'\n",
    "acqui_mode = 'MCMC'\n",
    "acqui_sample_num = 5\n",
    "process_sample_mode = 'abs'\n",
    "prior_mode ='exp_prior'\n",
    "likelihood_mode = 'normal_likelihood'"
   ]
  },
  {
   "cell_type": "code",
   "execution_count": null,
   "metadata": {},
   "outputs": [
    {
     "name": "stdout",
     "output_type": "stream",
     "text": [
      "Running 1 episode\n",
      "Start presampling...\n",
      "\tLearning rate: 0.000404744451607, training epochs: 67, batch size: 526, n_samples: 4, prior_sigma: 4.4973946, init_sigma_weights_mu:  4.5750747, init_sigma_biases_mu: 3.1472955, init_sigma_weights_rho: 4.414118, init_sigma_biases_rho: 3.9362009\n",
      "Accuracy 0.0995238095238\n",
      "\tLearning rate: 0.00811002085406, training epochs: 30, batch size: 197, n_samples: 4, prior_sigma: 4.6369543, init_sigma_weights_mu:  1.1224715, init_sigma_biases_mu: 0.52538204, init_sigma_weights_rho: 2.2190282, init_sigma_biases_rho: 0.74228865\n",
      "Accuracy 0.220952380952\n",
      "\tLearning rate: 0.310500544054, training epochs: 146, batch size: 11, n_samples: 4, prior_sigma: 4.7065544, init_sigma_weights_mu:  1.9124534, init_sigma_biases_mu: 1.4472452, init_sigma_weights_rho: 3.7374692, init_sigma_biases_rho: 1.4276938\n",
      "Accuracy 0.0995238095238\n",
      "\tLearning rate: 1.13249450205e-06, training epochs: 111, batch size: 789, n_samples: 3, prior_sigma: 3.7352433, init_sigma_weights_mu:  4.932752, init_sigma_biases_mu: 2.037481, init_sigma_weights_rho: 2.4128458, init_sigma_biases_rho: 0.38786063\n",
      "Accuracy 0.0873333333333\n",
      "\tLearning rate: 0.508821573619, training epochs: 71, batch size: 515, n_samples: 2, prior_sigma: 0.21784677, init_sigma_weights_mu:  3.0218751, init_sigma_biases_mu: 0.6936708, init_sigma_weights_rho: 3.1889465, init_sigma_biases_rho: 4.8685\n",
      "Accuracy 0.0995238095238\n",
      "Presampling finished.\n",
      "\tLearning rate: 0.0683632367979, training epochs: 13, batch size: 124, n_samples: 1, prior_sigma: 3.5302582, init_sigma_weights_mu:  1.05854, init_sigma_biases_mu: 1.7099942, init_sigma_weights_rho: 0.36163983, init_sigma_biases_rho: 2.3084004\n",
      "Accuracy 0.117238095238\n",
      "\tLearning rate: 0.0389320829708, training epochs: 149, batch size: 402, n_samples: 4, prior_sigma: 4.0058594, init_sigma_weights_mu:  4.1576133, init_sigma_biases_mu: 4.3681016, init_sigma_weights_rho: 4.5567174, init_sigma_biases_rho: 1.1334691\n",
      "Accuracy 0.0995238095238\n",
      "\tLearning rate: 6.25598396456e-06, training epochs: 88, batch size: 278, n_samples: 4, prior_sigma: 4.62047, init_sigma_weights_mu:  1.7766874, init_sigma_biases_mu: 3.8771152, init_sigma_weights_rho: 1.2224216, init_sigma_biases_rho: 3.3518248\n",
      "Accuracy 0.162285714286\n",
      "\tLearning rate: 0.285803967031, training epochs: 88, batch size: 418, n_samples: 4, prior_sigma: 3.718612, init_sigma_weights_mu:  1.4273876, init_sigma_biases_mu: 3.4859333, init_sigma_weights_rho: 4.3123736, init_sigma_biases_rho: 2.1529038\n"
     ]
    }
   ],
   "source": [
    "y_list = list()\n",
    "time_list = list() \n",
    "for i in range(n_iters):\n",
    "    y_list.append(list())\n",
    "for i in range(n_iters):\n",
    "    time_list.append(list())\n",
    "\n",
    "for j in range(maxeps):\n",
    "    print ('Running %d episode' % (j + 1))\n",
    "    xp, yp, timep = bayesian_optimisation(coor_sigma = coor_sigma, \n",
    "                                   burn_in = burn_in, \n",
    "                                   input_dimension = input_dimension,\n",
    "                                   n_iters = n_iters, \n",
    "                                   sample_loss = loss, \n",
    "                                   bounds = bounds, \n",
    "                                   n_pre_samples = n_pre_samples, \n",
    "                                   acqui_eva_num = acqui_eva_num,  \n",
    "                                   greater_is_better=greater_is_better, \n",
    "                                   mode = mode, \n",
    "                                   acqui_mode = acqui_mode, \n",
    "                                   acqui_sample_num = acqui_sample_num,   \n",
    "                                   process_sample_mode = process_sample_mode, \n",
    "                                   prior_mode = prior_mode, \n",
    "                                   likelihood_mode = likelihood_mode)\n",
    "    y_train = yp[n_pre_samples:]\n",
    "    for idx in range(len(y_train)):\n",
    "        if idx == 0:\n",
    "            y_list[idx].append(y_train[idx])\n",
    "        else:\n",
    "            y_list[idx].append(np.min(y_train[:idx]))\n",
    "            \n",
    "    for i in range(len(y_train)):\n",
    "        time_list[i].append(timep[i])"
   ]
  },
  {
   "cell_type": "code",
   "execution_count": 8,
   "metadata": {
    "collapsed": true
   },
   "outputs": [],
   "source": [
    "def return_mean_std(y_list):\n",
    "    mean_list = list()\n",
    "    std_list = list()\n",
    "    for one_list in y_list:\n",
    "        mean_list.append(np.mean(one_list))\n",
    "        std_list.append(np.std(one_list))\n",
    "    return mean_list, std_list\n",
    "mean_list_MCMC, std_list_MCMC = return_mean_std(y_list)"
   ]
  },
  {
   "cell_type": "code",
   "execution_count": 11,
   "metadata": {},
   "outputs": [
    {
     "data": {
      "image/png": "[encoded data removed]",
      "text/plain": [
       "<matplotlib.figure.Figure at 0x7f8ccf5f5f90>"
      ]
     },
     "metadata": {},
     "output_type": "display_data"
    },
    {
     "data": {
      "text/plain": [
       "0.042095238095238074"
      ]
     },
     "execution_count": 11,
     "metadata": {},
     "output_type": "execute_result"
    }
   ],
   "source": [
    "import matplotlib.pyplot as plt\n",
    "x_MCMC = [i+1 for i in range(len(y_list))]\n",
    "\n",
    "plt.errorbar(x_MCMC, mean_list_MCMC, yerr = std_list_MCMC, fmt = '-')\n",
    "\n",
    "plt.show()\n",
    "min(mean_list_MCMC)"
   ]
  },
  {
   "cell_type": "code",
   "execution_count": 11,
   "metadata": {
    "collapsed": true
   },
   "outputs": [],
   "source": [
    "import pickle\n",
    "opt_dict = {}\n",
    "opt_dict['y_list'] = y_list\n",
    "with open('BN_MCMC_EXP.pkl','wb') as file:\n",
    "    pickle.dump(opt_dict, file)"
   ]
  },
  {
   "cell_type": "code",
   "execution_count": 12,
   "metadata": {
    "collapsed": true
   },
   "outputs": [],
   "source": [
    "with open('BN_MCMC_EXP.pkl', 'rb') as pickle_file:\n",
    "    data1 = pickle.load(pickle_file)"
   ]
  },
  {
   "cell_type": "code",
   "execution_count": null,
   "metadata": {
    "collapsed": true
   },
   "outputs": [],
   "source": []
  },
  {
   "cell_type": "code",
   "execution_count": null,
   "metadata": {
    "collapsed": true
   },
   "outputs": [],
   "source": []
  }
 ],
 "metadata": {
  "kernelspec": {
   "display_name": "Python 3",
   "language": "python",
   "name": "python3"
  },
  "language_info": {
   "codemirror_mode": {
    "name": "ipython",
    "version": 3
   },
   "file_extension": ".py",
   "mimetype": "text/x-python",
   "name": "python",
   "nbconvert_exporter": "python",
   "pygments_lexer": "ipython3",
   "version": "3.6.2"
  }
 },
 "nbformat": 4,
 "nbformat_minor": 2
}
