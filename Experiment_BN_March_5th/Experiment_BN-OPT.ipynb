{
 "cells": [
  {
   "cell_type": "code",
   "execution_count": 47,
   "metadata": {
    "collapsed": true
   },
   "outputs": [],
   "source": [
    "import sys\n",
    "sys.path.insert(0, '../BO')"
   ]
  },
  {
   "cell_type": "code",
   "execution_count": 48,
   "metadata": {
    "collapsed": true
   },
   "outputs": [],
   "source": [
    "from gp import *\n",
    "import numpy as np\n",
    "from sklearn.datasets import fetch_mldata\n",
    "from BN import *"
   ]
  },
  {
   "cell_type": "code",
   "execution_count": 49,
   "metadata": {
    "collapsed": true
   },
   "outputs": [],
   "source": [
    "# Load and format the training and testing data\n",
    "mnist = fetch_mldata('MNIST original')"
   ]
  },
  {
   "cell_type": "code",
   "execution_count": 50,
   "metadata": {
    "collapsed": true
   },
   "outputs": [],
   "source": [
    "BN = BN(mnist)"
   ]
  },
  {
   "cell_type": "code",
   "execution_count": 51,
   "metadata": {
    "collapsed": true
   },
   "outputs": [],
   "source": [
    "loss = BN.train_bayesian_nn"
   ]
  },
  {
   "cell_type": "code",
   "execution_count": 52,
   "metadata": {
    "collapsed": true
   },
   "outputs": [],
   "source": [
    "bounds = np.array([[-15., 0.0], [20., 60.], [128., 512.], [1., 5.], [0.00001, 1.], [0.00001, 1.], [0.00001, 1.], [0.00001, 2.], [0.00001, 2.]])\n",
    "# maxeps specifies how many BOs we want to run\n",
    "maxeps = 6\n",
    "# n_iters is number of iterations we want for each run of BO\n",
    "n_iters = 100\n",
    "acqui_eva_num = 5\n",
    "greater_is_better = False\n",
    "n_pre_samples = 3\n",
    "coor_sigma = 1 * np.array([0.2,0.2,0.2,0.2,0.2,0.2,0.2,0.2,0.2,0.2,0.2])\n",
    "burn_in = 20\n",
    "input_dimension = 9\n",
    "mode = 'OPT'\n",
    "acqui_mode = 'OPT'\n",
    "acqui_sample_num = 3\n",
    "process_sample_mode = 'normal'\n",
    "prior_mode ='normal_prior'\n",
    "likelihood_mode = 'normal_likelihood'"
   ]
  },
  {
   "cell_type": "code",
   "execution_count": null,
   "metadata": {},
   "outputs": [
    {
     "name": "stdout",
     "output_type": "stream",
     "text": [
      "Running 1 episode\n",
      "Start presampling...\n",
      "\tLearning rate: 0.365534151268, training epochs: 35, batch size: 930, n_samples: 3, prior_sigma: 3.3296385, init_sigma_weights_mu:  4.9629354, init_sigma_biases_mu: 0.5237784, init_sigma_weights_rho: 3.4619734, init_sigma_biases_rho: 0.77898276\n",
      "Accuracy 0.0946666666667\n",
      "\tLearning rate: 0.796019276045, training epochs: 93, batch size: 1199, n_samples: 2, prior_sigma: 4.377242, init_sigma_weights_mu:  3.6548872, init_sigma_biases_mu: 0.7318111, init_sigma_weights_rho: 0.7020926, init_sigma_biases_rho: 3.1799014\n",
      "Accuracy 0.0946666666667\n",
      "\tLearning rate: 4.70940769713e-05, training epochs: 128, batch size: 1916, n_samples: 4, prior_sigma: 1.699637, init_sigma_weights_mu:  0.959734, init_sigma_biases_mu: 3.7539334, init_sigma_weights_rho: 4.2576857, init_sigma_biases_rho: 2.3694427\n",
      "Accuracy 0.0946666666667\n",
      "Presampling finished.\n",
      "\tLearning rate: 6.16854497011e-05, training epochs: 12, batch size: 190, n_samples: 1, prior_sigma: 1.6402934, init_sigma_weights_mu:  2.9559393, init_sigma_biases_mu: 1.1335839, init_sigma_weights_rho: 4.7723956, init_sigma_biases_rho: 0.12799516\n",
      "Accuracy 0.0946666666667\n",
      "\tLearning rate: 4.8418192038e-07, training epochs: 24, batch size: 1962, n_samples: 1, prior_sigma: 0.22914842, init_sigma_weights_mu:  3.7566724, init_sigma_biases_mu: 4.0577555, init_sigma_weights_rho: 2.706089, init_sigma_biases_rho: 1.154003\n",
      "Accuracy 0.161619047619\n",
      "\tLearning rate: 0.0959318802539, training epochs: 145, batch size: 1095, n_samples: 1, prior_sigma: 4.818116, init_sigma_weights_mu:  2.22141, init_sigma_biases_mu: 1.5077282, init_sigma_weights_rho: 0.96467257, init_sigma_biases_rho: 3.3028703\n",
      "Accuracy 0.394285714286\n",
      "\tLearning rate: 0.457294396466, training epochs: 70, batch size: 91, n_samples: 1, prior_sigma: 2.3409083, init_sigma_weights_mu:  2.8873925, init_sigma_biases_mu: 1.8866608, init_sigma_weights_rho: 2.5138578, init_sigma_biases_rho: 0.83488286\n",
      "Accuracy 0.0946666666667\n",
      "\tLearning rate: 3.40676228557e-07, training epochs: 44, batch size: 1555, n_samples: 4, prior_sigma: 0.6097501, init_sigma_weights_mu:  2.111107, init_sigma_biases_mu: 2.9785252, init_sigma_weights_rho: 0.75030863, init_sigma_biases_rho: 3.4509397\n",
      "Accuracy 0.0974285714286\n",
      "\tLearning rate: 0.62386175201, training epochs: 112, batch size: 1266, n_samples: 2, prior_sigma: 3.2623014, init_sigma_weights_mu:  1.5429775, init_sigma_biases_mu: 4.562663, init_sigma_weights_rho: 0.9243131, init_sigma_biases_rho: 0.48367998\n",
      "Accuracy 0.0946666666667\n",
      "\tLearning rate: 0.375306075481, training epochs: 147, batch size: 1267, n_samples: 1, prior_sigma: 1.2552171, init_sigma_weights_mu:  2.7889433, init_sigma_biases_mu: 4.2514315, init_sigma_weights_rho: 3.456833, init_sigma_biases_rho: 4.4930763\n",
      "Accuracy 0.0946666666667\n",
      "\tLearning rate: 0.0815740166908, training epochs: 81, batch size: 858, n_samples: 1, prior_sigma: 4.0683045, init_sigma_weights_mu:  2.7600598, init_sigma_biases_mu: 4.4050484, init_sigma_weights_rho: 2.5266948, init_sigma_biases_rho: 2.1879537\n",
      "Accuracy 0.298095238095\n",
      "\tLearning rate: 3.34531679493e-07, training epochs: 51, batch size: 399, n_samples: 4, prior_sigma: 3.6664894, init_sigma_weights_mu:  3.0773213, init_sigma_biases_mu: 1.5720993, init_sigma_weights_rho: 4.439075, init_sigma_biases_rho: 1.4841405\n",
      "Accuracy 0.0946666666667\n",
      "\tLearning rate: 0.0246122280304, training epochs: 111, batch size: 1926, n_samples: 4, prior_sigma: 1.7943265, init_sigma_weights_mu:  1.3268851, init_sigma_biases_mu: 2.6382039, init_sigma_weights_rho: 4.663799, init_sigma_biases_rho: 1.0461088\n",
      "Accuracy 0.0946666666667\n",
      "\tLearning rate: 5.14047569672e-06, training epochs: 126, batch size: 1261, n_samples: 2, prior_sigma: 2.9343226, init_sigma_weights_mu:  3.5323122, init_sigma_biases_mu: 3.5894346, init_sigma_weights_rho: 0.6111409, init_sigma_biases_rho: 3.0881445\n",
      "Accuracy 0.0904761904762\n",
      "\tLearning rate: 0.0251599880738, training epochs: 101, batch size: 301, n_samples: 4, prior_sigma: 1.1232339, init_sigma_weights_mu:  1.5898478, init_sigma_biases_mu: 3.3911316, init_sigma_weights_rho: 4.0738907, init_sigma_biases_rho: 0.40600055\n",
      "Accuracy 0.0946666666667\n",
      "\tLearning rate: 0.00156839510227, training epochs: 107, batch size: 1775, n_samples: 1, prior_sigma: 0.13558686, init_sigma_weights_mu:  2.2261126, init_sigma_biases_mu: 2.1863315, init_sigma_weights_rho: 0.81389356, init_sigma_biases_rho: 3.181376\n",
      "Accuracy 0.86580952381\n",
      "\tLearning rate: 3.84742941124e-07, training epochs: 5, batch size: 1660, n_samples: 4, prior_sigma: 4.3430405, init_sigma_weights_mu:  1.0884665, init_sigma_biases_mu: 3.8916264, init_sigma_weights_rho: 3.499358, init_sigma_biases_rho: 0.623207\n",
      "Accuracy 0.084\n",
      "\tLearning rate: 5.7787611039e-07, training epochs: 98, batch size: 1676, n_samples: 3, prior_sigma: 4.135135, init_sigma_weights_mu:  4.969375, init_sigma_biases_mu: 0.67585, init_sigma_weights_rho: 4.545266, init_sigma_biases_rho: 2.486944\n",
      "Accuracy 0.0946666666667\n",
      "\tLearning rate: 1.15455574139e-06, training epochs: 124, batch size: 1109, n_samples: 1, prior_sigma: 2.7092562, init_sigma_weights_mu:  1.9980419, init_sigma_biases_mu: 4.537429, init_sigma_weights_rho: 4.000717, init_sigma_biases_rho: 2.8107963\n",
      "Accuracy 0.0946666666667\n",
      "\tLearning rate: 5.84207385333e-06, training epochs: 134, batch size: 1207, n_samples: 2, prior_sigma: 4.3704844, init_sigma_weights_mu:  3.1094131, init_sigma_biases_mu: 3.4388132, init_sigma_weights_rho: 1.0346341, init_sigma_biases_rho: 0.24882932\n",
      "Accuracy 0.17180952381\n",
      "\tLearning rate: 0.269647672662, training epochs: 10, batch size: 1142, n_samples: 1, prior_sigma: 3.7903821, init_sigma_weights_mu:  2.1299665, init_sigma_biases_mu: 4.4418955, init_sigma_weights_rho: 2.9005024, init_sigma_biases_rho: 3.1449728\n",
      "Accuracy 0.184476190476\n",
      "\tLearning rate: 0.0184356171171, training epochs: 43, batch size: 161, n_samples: 1, prior_sigma: 0.93824, init_sigma_weights_mu:  4.793655, init_sigma_biases_mu: 1.5946652, init_sigma_weights_rho: 4.8654947, init_sigma_biases_rho: 1.6663469\n",
      "Accuracy 0.0946666666667\n",
      "\tLearning rate: 0.0639234267686, training epochs: 121, batch size: 915, n_samples: 4, prior_sigma: 0.46653673, init_sigma_weights_mu:  4.1033044, init_sigma_biases_mu: 1.7089599, init_sigma_weights_rho: 3.7804089, init_sigma_biases_rho: 1.8976941\n",
      "Accuracy 0.487904761905\n",
      "\tLearning rate: 1.30347937215e-06, training epochs: 10, batch size: 284, n_samples: 2, prior_sigma: 4.3372006, init_sigma_weights_mu:  1.9356853, init_sigma_biases_mu: 3.3691552, init_sigma_weights_rho: 0.5692755, init_sigma_biases_rho: 4.7555842\n",
      "Accuracy 0.0946666666667\n",
      "\tLearning rate: 0.000212763378996, training epochs: 141, batch size: 541, n_samples: 3, prior_sigma: 4.361314, init_sigma_weights_mu:  4.384409, init_sigma_biases_mu: 0.8851984, init_sigma_weights_rho: 2.817874, init_sigma_biases_rho: 1.8402331\n",
      "Accuracy 0.779047619048\n",
      "\tLearning rate: 0.000269825071581, training epochs: 84, batch size: 1916, n_samples: 3, prior_sigma: 0.6825828, init_sigma_weights_mu:  0.95489633, init_sigma_biases_mu: 3.3856318, init_sigma_weights_rho: 4.319086, init_sigma_biases_rho: 1.4418437\n",
      "Accuracy 0.0946666666667\n",
      "\tLearning rate: 0.172374650304, training epochs: 32, batch size: 463, n_samples: 4, prior_sigma: 0.21771573, init_sigma_weights_mu:  2.1064537, init_sigma_biases_mu: 3.2811775, init_sigma_weights_rho: 2.4498618, init_sigma_biases_rho: 2.3441906\n",
      "Accuracy 0.186\n",
      "\tLearning rate: 0.00191406609766, training epochs: 52, batch size: 1751, n_samples: 2, prior_sigma: 1.0894853, init_sigma_weights_mu:  4.4219313, init_sigma_biases_mu: 0.01, init_sigma_weights_rho: 2.2315636, init_sigma_biases_rho: 3.881227\n",
      "Accuracy 0.798\n",
      "\tLearning rate: 0.144561135915, training epochs: 148, batch size: 50, n_samples: 3, prior_sigma: 1.9878325, init_sigma_weights_mu:  4.756067, init_sigma_biases_mu: 0.68075705, init_sigma_weights_rho: 2.366463, init_sigma_biases_rho: 1.428343\n",
      "Accuracy 0.0946666666667\n",
      "\tLearning rate: 0.00324981391135, training epochs: 40, batch size: 586, n_samples: 1, prior_sigma: 4.9522033, init_sigma_weights_mu:  0.8492734, init_sigma_biases_mu: 0.6274296, init_sigma_weights_rho: 3.9734135, init_sigma_biases_rho: 4.8330345\n",
      "Accuracy 0.0946666666667\n",
      "\tLearning rate: 4.04081764046e-06, training epochs: 117, batch size: 780, n_samples: 1, prior_sigma: 0.7549925, init_sigma_weights_mu:  1.9443235, init_sigma_biases_mu: 3.583207, init_sigma_weights_rho: 2.9099047, init_sigma_biases_rho: 3.8042493\n"
     ]
    },
    {
     "name": "stdout",
     "output_type": "stream",
     "text": [
      "Accuracy 0.0951428571429\n",
      "\tLearning rate: 2.07647331127e-05, training epochs: 19, batch size: 823, n_samples: 1, prior_sigma: 0.46630985, init_sigma_weights_mu:  0.67925006, init_sigma_biases_mu: 2.5154912, init_sigma_weights_rho: 4.818928, init_sigma_biases_rho: 0.26105195\n",
      "Accuracy 0.0946666666667\n",
      "\tLearning rate: 0.00129372589388, training epochs: 127, batch size: 1593, n_samples: 3, prior_sigma: 0.01, init_sigma_weights_mu:  0.02829072, init_sigma_biases_mu: 0.1069187, init_sigma_weights_rho: 3.377304, init_sigma_biases_rho: 1.5229496\n",
      "Accuracy 0.114666666667\n",
      "\tLearning rate: 0.00427306467128, training epochs: 120, batch size: 1581, n_samples: 2, prior_sigma: 4.899087, init_sigma_weights_mu:  1.6912806, init_sigma_biases_mu: 1.4855136, init_sigma_weights_rho: 4.6834674, init_sigma_biases_rho: 1.8540852\n",
      "Accuracy 0.0946666666667\n",
      "\tLearning rate: 0.00340626051272, training epochs: 133, batch size: 914, n_samples: 4, prior_sigma: 2.4650488, init_sigma_weights_mu:  4.928388, init_sigma_biases_mu: 4.396894, init_sigma_weights_rho: 4.493039, init_sigma_biases_rho: 3.106102\n",
      "Accuracy 0.0946666666667\n",
      "\tLearning rate: 4.97808910777e-07, training epochs: 8, batch size: 1401, n_samples: 4, prior_sigma: 0.5758779, init_sigma_weights_mu:  4.435019, init_sigma_biases_mu: 0.70791537, init_sigma_weights_rho: 0.8709937, init_sigma_biases_rho: 3.2814887\n",
      "Accuracy 0.102476190476\n",
      "\tLearning rate: 1.75015889121e-05, training epochs: 109, batch size: 712, n_samples: 2, prior_sigma: 0.99406064, init_sigma_weights_mu:  3.3169417, init_sigma_biases_mu: 1.8598543, init_sigma_weights_rho: 2.742081, init_sigma_biases_rho: 1.1699691\n",
      "Accuracy 0.18619047619\n",
      "\tLearning rate: 6.22561205154e-06, training epochs: 123, batch size: 1099, n_samples: 4, prior_sigma: 0.15070777, init_sigma_weights_mu:  3.8524284, init_sigma_biases_mu: 2.0581424, init_sigma_weights_rho: 3.9976346, init_sigma_biases_rho: 2.9962518\n",
      "Accuracy 0.0946666666667\n",
      "\tLearning rate: 0.00319861205895, training epochs: 58, batch size: 1182, n_samples: 3, prior_sigma: 3.8826132, init_sigma_weights_mu:  2.9997091, init_sigma_biases_mu: 1.7486593, init_sigma_weights_rho: 3.755658, init_sigma_biases_rho: 1.9172794\n",
      "Accuracy 0.756285714286\n",
      "\tLearning rate: 1.67249353969e-05, training epochs: 83, batch size: 758, n_samples: 1, prior_sigma: 1.0488694, init_sigma_weights_mu:  4.645954, init_sigma_biases_mu: 2.4749362, init_sigma_weights_rho: 3.3113382, init_sigma_biases_rho: 0.80100137\n",
      "Accuracy 0.110476190476\n",
      "\tLearning rate: 0.0948050442504, training epochs: 148, batch size: 896, n_samples: 3, prior_sigma: 3.7828696, init_sigma_weights_mu:  0.342756, init_sigma_biases_mu: 1.806838, init_sigma_weights_rho: 3.2953215, init_sigma_biases_rho: 1.8776393\n",
      "Accuracy 0.104571428571\n",
      "\tLearning rate: 0.0223235066889, training epochs: 103, batch size: 217, n_samples: 3, prior_sigma: 4.8428383, init_sigma_weights_mu:  0.5144377, init_sigma_biases_mu: 3.592909, init_sigma_weights_rho: 1.1988312, init_sigma_biases_rho: 0.8850739\n",
      "Accuracy 0.500761904762\n",
      "\tLearning rate: 8.05663778729e-05, training epochs: 132, batch size: 529, n_samples: 4, prior_sigma: 4.1380014, init_sigma_weights_mu:  1.6185911, init_sigma_biases_mu: 0.33662638, init_sigma_weights_rho: 1.0267456, init_sigma_biases_rho: 3.8592257\n",
      "Accuracy 0.739904761905\n",
      "\tLearning rate: 0.338757109434, training epochs: 57, batch size: 492, n_samples: 4, prior_sigma: 4.480264, init_sigma_weights_mu:  2.2158442, init_sigma_biases_mu: 0.7835892, init_sigma_weights_rho: 0.024783222, init_sigma_biases_rho: 0.42329887\n",
      "Accuracy 0.0952380952381\n",
      "\tLearning rate: 0.00125999510277, training epochs: 129, batch size: 221, n_samples: 2, prior_sigma: 0.8083175, init_sigma_weights_mu:  2.1741636, init_sigma_biases_mu: 0.04666786, init_sigma_weights_rho: 4.5542884, init_sigma_biases_rho: 2.2648208\n",
      "Accuracy 0.0946666666667\n",
      "\tLearning rate: 0.000199899878433, training epochs: 8, batch size: 1312, n_samples: 4, prior_sigma: 3.8497436, init_sigma_weights_mu:  3.7028475, init_sigma_biases_mu: 4.166746, init_sigma_weights_rho: 1.3860584, init_sigma_biases_rho: 3.4677892\n",
      "Accuracy 0.143142857143\n",
      "\tLearning rate: 0.146116271445, training epochs: 116, batch size: 1866, n_samples: 2, prior_sigma: 3.9159055, init_sigma_weights_mu:  3.4570746, init_sigma_biases_mu: 4.2465096, init_sigma_weights_rho: 1.7434909, init_sigma_biases_rho: 4.2212276\n",
      "Accuracy 0.558380952381\n",
      "\tLearning rate: 0.00800064892777, training epochs: 41, batch size: 438, n_samples: 2, prior_sigma: 1.4668884, init_sigma_weights_mu:  1.7331592, init_sigma_biases_mu: 1.3026667, init_sigma_weights_rho: 1.1078861, init_sigma_biases_rho: 2.5090077\n",
      "Accuracy 0.320476190476\n",
      "\tLearning rate: 0.000181478879422, training epochs: 33, batch size: 1489, n_samples: 3, prior_sigma: 2.044408, init_sigma_weights_mu:  3.8169105, init_sigma_biases_mu: 0.53487533, init_sigma_weights_rho: 3.6996057, init_sigma_biases_rho: 0.4547703\n",
      "Accuracy 0.0946666666667\n",
      "\tLearning rate: 0.000256519179412, training epochs: 140, batch size: 1223, n_samples: 4, prior_sigma: 2.537686, init_sigma_weights_mu:  4.489313, init_sigma_biases_mu: 0.16202174, init_sigma_weights_rho: 4.8273625, init_sigma_biases_rho: 0.10202392\n",
      "Accuracy 0.0946666666667\n",
      "\tLearning rate: 0.00526427026167, training epochs: 102, batch size: 1365, n_samples: 2, prior_sigma: 2.602735, init_sigma_weights_mu:  1.292575, init_sigma_biases_mu: 3.827987, init_sigma_weights_rho: 4.371726, init_sigma_biases_rho: 2.288598\n",
      "Accuracy 0.0946666666667\n",
      "\tLearning rate: 2.30916511842e-05, training epochs: 144, batch size: 1922, n_samples: 1, prior_sigma: 0.7902357, init_sigma_weights_mu:  4.036321, init_sigma_biases_mu: 3.6782632, init_sigma_weights_rho: 0.6268674, init_sigma_biases_rho: 2.531053\n",
      "Accuracy 0.225238095238\n",
      "50 iterations have been run\n",
      "\tLearning rate: 0.00122431783609, training epochs: 137, batch size: 1452, n_samples: 4, prior_sigma: 2.4458597, init_sigma_weights_mu:  3.489135, init_sigma_biases_mu: 4.8255725, init_sigma_weights_rho: 1.2674594, init_sigma_biases_rho: 4.901229\n",
      "Accuracy 0.916380952381\n",
      "\tLearning rate: 8.8315880389e-07, training epochs: 135, batch size: 1245, n_samples: 2, prior_sigma: 3.1911447, init_sigma_weights_mu:  3.418609, init_sigma_biases_mu: 4.8448405, init_sigma_weights_rho: 4.2438474, init_sigma_biases_rho: 2.0594447\n",
      "Accuracy 0.0946666666667\n",
      "\tLearning rate: 9.71326360837e-05, training epochs: 20, batch size: 1028, n_samples: 4, prior_sigma: 4.297134, init_sigma_weights_mu:  0.024871027, init_sigma_biases_mu: 2.1868217, init_sigma_weights_rho: 2.694382, init_sigma_biases_rho: 3.9916246\n",
      "Accuracy 0.0700952380952\n",
      "\tLearning rate: 0.429977707944, training epochs: 39, batch size: 1003, n_samples: 1, prior_sigma: 2.7520413, init_sigma_weights_mu:  1.6239982, init_sigma_biases_mu: 1.5798231, init_sigma_weights_rho: 1.2739203, init_sigma_biases_rho: 0.53994983\n",
      "Accuracy 0.0946666666667\n",
      "\tLearning rate: 0.00015400278345, training epochs: 108, batch size: 1758, n_samples: 3, prior_sigma: 3.3457992, init_sigma_weights_mu:  3.839049, init_sigma_biases_mu: 0.77468866, init_sigma_weights_rho: 0.8113482, init_sigma_biases_rho: 4.7596016\n",
      "Accuracy 0.65419047619\n",
      "\tLearning rate: 0.0364607959597, training epochs: 146, batch size: 943, n_samples: 1, prior_sigma: 4.7116537, init_sigma_weights_mu:  2.9946592, init_sigma_biases_mu: 3.8272984, init_sigma_weights_rho: 3.6953566, init_sigma_biases_rho: 1.4119414\n",
      "Accuracy 0.296666666667\n",
      "\tLearning rate: 0.684613649629, training epochs: 20, batch size: 1419, n_samples: 4, prior_sigma: 4.001924, init_sigma_weights_mu:  4.843769, init_sigma_biases_mu: 3.0399833, init_sigma_weights_rho: 3.1653507, init_sigma_biases_rho: 0.62137777\n",
      "Accuracy 0.0946666666667\n",
      "\tLearning rate: 6.58470673018e-07, training epochs: 132, batch size: 1745, n_samples: 4, prior_sigma: 1.9240739, init_sigma_weights_mu:  2.7797518, init_sigma_biases_mu: 3.7498705, init_sigma_weights_rho: 3.6848216, init_sigma_biases_rho: 0.025532477\n",
      "Accuracy 0.0858095238095\n",
      "\tLearning rate: 0.000125526818248, training epochs: 92, batch size: 594, n_samples: 2, prior_sigma: 4.600518, init_sigma_weights_mu:  1.9372295, init_sigma_biases_mu: 3.0597832, init_sigma_weights_rho: 3.9898639, init_sigma_biases_rho: 0.042447817\n",
      "Accuracy 0.0946666666667\n",
      "\tLearning rate: 0.000463309242484, training epochs: 129, batch size: 276, n_samples: 1, prior_sigma: 4.690788, init_sigma_weights_mu:  3.3163903, init_sigma_biases_mu: 0.32200238, init_sigma_weights_rho: 1.4149127, init_sigma_biases_rho: 2.5180008\n"
     ]
    },
    {
     "name": "stdout",
     "output_type": "stream",
     "text": [
      "Accuracy 0.902285714286\n",
      "\tLearning rate: 0.000691080845975, training epochs: 53, batch size: 125, n_samples: 4, prior_sigma: 1.11043, init_sigma_weights_mu:  1.0802847, init_sigma_biases_mu: 3.8383892, init_sigma_weights_rho: 1.7261554, init_sigma_biases_rho: 1.0703996\n",
      "Accuracy 0.314761904762\n",
      "\tLearning rate: 0.000819563555417, training epochs: 101, batch size: 1768, n_samples: 2, prior_sigma: 2.7439094, init_sigma_weights_mu:  3.795542, init_sigma_biases_mu: 3.0286694, init_sigma_weights_rho: 0.22981375, init_sigma_biases_rho: 3.7929463\n",
      "Accuracy 0.887904761905\n",
      "\tLearning rate: 1.60573413844e-05, training epochs: 82, batch size: 866, n_samples: 4, prior_sigma: 2.6823163, init_sigma_weights_mu:  0.13710412, init_sigma_biases_mu: 1.0969505, init_sigma_weights_rho: 4.645896, init_sigma_biases_rho: 3.989266\n",
      "Accuracy 0.0946666666667\n",
      "\tLearning rate: 0.00012141548103, training epochs: 49, batch size: 812, n_samples: 4, prior_sigma: 2.0459394, init_sigma_weights_mu:  1.9128044, init_sigma_biases_mu: 2.9682329, init_sigma_weights_rho: 2.7846696, init_sigma_biases_rho: 0.94209373\n",
      "Accuracy 0.190952380952\n",
      "\tLearning rate: 0.000578282398983, training epochs: 87, batch size: 1125, n_samples: 3, prior_sigma: 0.9299278, init_sigma_weights_mu:  3.2472785, init_sigma_biases_mu: 0.3506856, init_sigma_weights_rho: 2.5557754, init_sigma_biases_rho: 0.82487583\n",
      "Accuracy 0.738761904762\n",
      "\tLearning rate: 4.86010373231e-06, training epochs: 8, batch size: 1267, n_samples: 2, prior_sigma: 2.8396978, init_sigma_weights_mu:  1.2497957, init_sigma_biases_mu: 0.4212696, init_sigma_weights_rho: 0.49612257, init_sigma_biases_rho: 2.258766\n",
      "Accuracy 0.0790476190476\n",
      "\tLearning rate: 0.000650622236518, training epochs: 75, batch size: 1809, n_samples: 4, prior_sigma: 3.0748227, init_sigma_weights_mu:  2.2441185, init_sigma_biases_mu: 4.7978544, init_sigma_weights_rho: 2.3757298, init_sigma_biases_rho: 3.7706451\n",
      "Accuracy 0.536380952381\n",
      "\tLearning rate: 6.0741112903e-05, training epochs: 69, batch size: 1608, n_samples: 1, prior_sigma: 2.6826794, init_sigma_weights_mu:  0.73322517, init_sigma_biases_mu: 0.55282456, init_sigma_weights_rho: 2.531999, init_sigma_biases_rho: 1.7453326\n",
      "Accuracy 0.0798095238095\n",
      "\tLearning rate: 0.000115148033721, training epochs: 40, batch size: 864, n_samples: 1, prior_sigma: 2.9290311, init_sigma_weights_mu:  3.912908, init_sigma_biases_mu: 1.0155835, init_sigma_weights_rho: 1.7163373, init_sigma_biases_rho: 1.4467741\n",
      "Accuracy 0.365904761905\n",
      "\tLearning rate: 0.000340855382466, training epochs: 113, batch size: 476, n_samples: 3, prior_sigma: 4.963811, init_sigma_weights_mu:  4.725985, init_sigma_biases_mu: 2.1422446, init_sigma_weights_rho: 4.392523, init_sigma_biases_rho: 4.517346\n",
      "Accuracy 0.0946666666667\n",
      "\tLearning rate: 0.00181439441519, training epochs: 133, batch size: 287, n_samples: 1, prior_sigma: 0.6324274, init_sigma_weights_mu:  4.855038, init_sigma_biases_mu: 3.183581, init_sigma_weights_rho: 3.4334698, init_sigma_biases_rho: 2.176314\n",
      "Accuracy 0.191904761905\n",
      "\tLearning rate: 0.00047966072684, training epochs: 62, batch size: 1811, n_samples: 4, prior_sigma: 3.13686, init_sigma_weights_mu:  2.6244864, init_sigma_biases_mu: 0.1976307, init_sigma_weights_rho: 4.1681085, init_sigma_biases_rho: 4.028303\n",
      "Accuracy 0.0946666666667\n",
      "\tLearning rate: 0.0183299276632, training epochs: 85, batch size: 1371, n_samples: 2, prior_sigma: 2.0953467, init_sigma_weights_mu:  3.1411011, init_sigma_biases_mu: 0.37383813, init_sigma_weights_rho: 3.040981, init_sigma_biases_rho: 4.441463\n",
      "Accuracy 0.174952380952\n",
      "\tLearning rate: 0.205778762313, training epochs: 128, batch size: 1509, n_samples: 4, prior_sigma: 4.6245027, init_sigma_weights_mu:  4.9396257, init_sigma_biases_mu: 4.825012, init_sigma_weights_rho: 4.2721515, init_sigma_biases_rho: 2.6813822\n",
      "Accuracy 0.0946666666667\n",
      "\tLearning rate: 3.888851743e-07, training epochs: 120, batch size: 1365, n_samples: 3, prior_sigma: 0.36514872, init_sigma_weights_mu:  1.009896, init_sigma_biases_mu: 3.009042, init_sigma_weights_rho: 0.06659012, init_sigma_biases_rho: 3.0139499\n",
      "Accuracy 0.122095238095\n",
      "\tLearning rate: 0.00050821051762, training epochs: 42, batch size: 1381, n_samples: 2, prior_sigma: 1.3767498, init_sigma_weights_mu:  1.805791, init_sigma_biases_mu: 1.2463111, init_sigma_weights_rho: 2.0342808, init_sigma_biases_rho: 0.42490587\n",
      "Accuracy 0.433142857143\n",
      "\tLearning rate: 2.26079866795e-05, training epochs: 136, batch size: 353, n_samples: 1, prior_sigma: 2.517381, init_sigma_weights_mu:  2.4632668, init_sigma_biases_mu: 3.0718174, init_sigma_weights_rho: 1.3985906, init_sigma_biases_rho: 0.51668096\n"
     ]
    }
   ],
   "source": [
    "y_list = list()\n",
    "time_list = list() \n",
    "\n",
    "for i in range(n_iters):\n",
    "    y_list.append(list())\n",
    "for i in range(n_iters):\n",
    "    time_list.append(list())\n",
    "\n",
    "for j in range(maxeps):\n",
    "    print ('Running %d episode' % (j + 1))\n",
    "    xp, yp, timep = bayesian_optimisation(coor_sigma = coor_sigma, \n",
    "                                   burn_in = burn_in, \n",
    "                                   input_dimension = input_dimension,\n",
    "                                   n_iters = n_iters, \n",
    "                                   sample_loss = loss, \n",
    "                                   bounds = bounds, \n",
    "                                   n_pre_samples = n_pre_samples, \n",
    "                                   acqui_eva_num = acqui_eva_num,  \n",
    "                                   greater_is_better=greater_is_better, \n",
    "                                   mode = mode, \n",
    "                                   acqui_mode = acqui_mode, \n",
    "                                   acqui_sample_num = acqui_sample_num,   \n",
    "                                   process_sample_mode = process_sample_mode, \n",
    "                                   prior_mode = prior_mode, \n",
    "                                   likelihood_mode = likelihood_mode)\n",
    "    y_train = yp[n_pre_samples:]\n",
    "    for idx in range(len(y_train)):\n",
    "        if idx == 0:\n",
    "            y_list[idx].append(y_train[idx])\n",
    "        else:\n",
    "            y_list[idx].append(np.min(y_train[:idx]))\n",
    "    for i in range(len(y_train)):\n",
    "        time_list[i].append(timep[i])"
   ]
  },
  {
   "cell_type": "code",
   "execution_count": null,
   "metadata": {
    "collapsed": true
   },
   "outputs": [],
   "source": [
    "def return_mean_std(y_list):\n",
    "    mean_list = list()\n",
    "    std_list = list()\n",
    "    for one_list in y_list:\n",
    "        mean_list.append(np.mean(one_list))\n",
    "        std_list.append(np.std(one_list))\n",
    "    return mean_list, std_list\n",
    "mean_list, std_list = return_mean_std(y_list)"
   ]
  },
  {
   "cell_type": "code",
   "execution_count": 18,
   "metadata": {},
   "outputs": [
    {
     "data": {
      "image/png": "[encoded data removed]",
      "text/plain": [
       "<matplotlib.figure.Figure at 0x7fe0887d23d0>"
      ]
     },
     "metadata": {},
     "output_type": "display_data"
    },
    {
     "data": {
      "text/plain": [
       "0.03609523809523807"
      ]
     },
     "execution_count": 18,
     "metadata": {},
     "output_type": "execute_result"
    }
   ],
   "source": [
    "import matplotlib.pyplot as plt\n",
    "x = [i+1 for i in range(len(y_list))]\n",
    "\n",
    "plt.errorbar(x, mean_list, yerr = std_list, fmt = '-')\n",
    "\n",
    "plt.show()\n",
    "min(mean_list)"
   ]
  },
  {
   "cell_type": "code",
   "execution_count": null,
   "metadata": {
    "collapsed": true
   },
   "outputs": [],
   "source": []
  },
  {
   "cell_type": "code",
   "execution_count": 11,
   "metadata": {
    "collapsed": true
   },
   "outputs": [],
   "source": [
    "import pickle\n",
    "opt_dict = {}\n",
    "opt_dict['y_list'] = y_list\n",
    "with open('BN_MCMC_OPT.pkl','wb') as file:\n",
    "    pickle.dump(opt_dict, file)"
   ]
  },
  {
   "cell_type": "code",
   "execution_count": 15,
   "metadata": {
    "collapsed": true
   },
   "outputs": [],
   "source": [
    "with open('BN_MCMC_OPT.pkl', 'rb') as pickle_file:\n",
    "    data1 = pickle.load(pickle_file)"
   ]
  },
  {
   "cell_type": "code",
   "execution_count": null,
   "metadata": {
    "collapsed": true
   },
   "outputs": [],
   "source": []
  },
  {
   "cell_type": "code",
   "execution_count": null,
   "metadata": {
    "collapsed": true
   },
   "outputs": [],
   "source": []
  }
 ],
 "metadata": {
  "kernelspec": {
   "display_name": "Python 3",
   "language": "python",
   "name": "python3"
  },
  "language_info": {
   "codemirror_mode": {
    "name": "ipython",
    "version": 3
   },
   "file_extension": ".py",
   "mimetype": "text/x-python",
   "name": "python",
   "nbconvert_exporter": "python",
   "pygments_lexer": "ipython3",
   "version": "3.6.2"
  }
 },
 "nbformat": 4,
 "nbformat_minor": 2
}
