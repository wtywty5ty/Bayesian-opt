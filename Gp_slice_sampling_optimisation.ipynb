{
 "cells": [
  {
   "cell_type": "code",
   "execution_count": 14,
   "metadata": {},
   "outputs": [],
   "source": [
    "from sklearn.gaussian_process import GaussianProcessRegressor, kernels\n",
    "from sklearn.datasets import make_regression\n",
    "import numpy as np\n",
    "import matplotlib.pyplot as plt\n",
    "import scipy.stats as ss"
   ]
  },
  {
   "cell_type": "code",
   "execution_count": 15,
   "metadata": {},
   "outputs": [],
   "source": [
    "% matplotlib inline"
   ]
  },
  {
   "cell_type": "code",
   "execution_count": 16,
   "metadata": {},
   "outputs": [],
   "source": [
    "class Gaussian_Process():\n",
    "    \n",
    "    def __init__(self, kernel):\n",
    "        self.kernel = kernel\n",
    "        self.gp = GaussianProcessRegressor(kernel=kernel,\n",
    "                                           optimizer = None,\n",
    "                                           n_restarts_optimizer=10,\n",
    "                                           normalize_y=True)\n",
    "    \n",
    "    def optimise__with_splice_sampling(self, initial_theta, num_iters, sigma, burn_in,  X, y):\n",
    "        self.fit(X, y)\n",
    "        slice_sampler = Slice_sampler(num_iters = num_iters, \n",
    "                                      sigma = sigma, \n",
    "                                      burn_in = burn_in,\n",
    "                                      gp = self)\n",
    "        samples = slice_sampler.sample(init = initial_theta)\n",
    "        theta_opt = [np.mean(samples[0]),np.mean(samples[1])]\n",
    "        \n",
    "        self.gp.set_params(**{\"kernel__k1__length_scale\": np.mean(samples[0]),\n",
    "                            \"kernel__k2__noise_level\": np.power(np.mean(samples[0]),2)})\n",
    "    \n",
    "    \n",
    "        \n",
    "    def log_marginal_likelihood(self,theta):\n",
    "        return self.gp.log_marginal_likelihood(theta)\n",
    "    \n",
    "    def log_prior_parameters(self, theta):\n",
    "        return np.sum(np.log([ss.norm(0, 1).pdf(theta_k) for theta_k in theta]))\n",
    "    \n",
    "    def log_joint_unnorm(self, theta):\n",
    "        return self.log_marginal_likelihood(theta) + self.log_prior_parameters(theta)\n",
    "        \n",
    "    def fit(self, X, y):\n",
    "        self.gp.fit(X, y)\n",
    "    \n",
    "    def predict(self, X):\n",
    "        mu, sigma = self.gp.predict(X, return_std=True)\n",
    "        return mu, sigma"
   ]
  },
  {
   "cell_type": "code",
   "execution_count": 17,
   "metadata": {},
   "outputs": [],
   "source": [
    "class Slice_sampler():\n",
    "    \n",
    "    def __init__(self, num_iters, sigma, burn_in, gp):\n",
    "        self.num_iters = num_iters\n",
    "        self.sigma = sigma\n",
    "        self.burn_in = burn_in\n",
    "        self.gp = gp\n",
    "        \n",
    "    def sample(self, init, step_out=True):\n",
    "\n",
    "        D = len(init)\n",
    "        samples = np.zeros((D, self.num_iters))\n",
    "        \n",
    "        xx = init.copy()\n",
    "\n",
    "        for i in xrange(self.num_iters + self.burn_in):\n",
    "            perm = range(D)\n",
    "            np.random.shuffle(perm)\n",
    "            last_llh = self.gp.log_joint_unnorm(xx)\n",
    "\n",
    "            for d in perm:\n",
    "                llh0 = last_llh + np.log(np.random.rand())\n",
    "                rr = np.random.rand(1)\n",
    "                x_l = xx.copy()\n",
    "                x_l[d] = x_l[d] - rr * self.sigma[d]\n",
    "                x_r = xx.copy()\n",
    "                x_r[d] = x_r[d] + (1 - rr) * self.sigma[d]\n",
    "\n",
    "                if step_out:\n",
    "                    llh_l = self.gp.log_joint_unnorm(x_l)\n",
    "                    while llh_l > llh0:\n",
    "                        x_l[d] = x_l[d] - self.sigma[d]\n",
    "                        llh_l = self.gp.log_joint_unnorm(x_l)\n",
    "                    llh_r = self.gp.log_joint_unnorm(x_r)\n",
    "                    while llh_r > llh0:\n",
    "                        x_r[d] = x_r[d] + self.sigma[d]\n",
    "                        llh_r = self.gp.log_joint_unnorm(x_r)\n",
    "\n",
    "                x_cur = xx.copy()\n",
    "                while True:\n",
    "                    xd = np.array(np.random.rand() * (x_r[d] - x_l[d]) + x_l[d])\n",
    "                    x_cur[d] = xd.copy()\n",
    "                    last_llh = self.gp.log_joint_unnorm(x_cur)\n",
    "                    if last_llh > llh0:\n",
    "                        xx[d] = xd.copy()\n",
    "                        break\n",
    "                    elif xd > xx[d]:\n",
    "                        x_r[d] = xd\n",
    "                    elif xd < xx[d]:\n",
    "                        x_l[d] = xd\n",
    "                    else:\n",
    "                        raise RuntimeError('Slice sampler shrank too far.')\n",
    "                \n",
    "            if i == 0:\n",
    "                print \"burn-in\"\n",
    "            elif i > self.burn_in and i % 100 == 0: \n",
    "                print 'iteration', i - self.burn_in\n",
    "            \n",
    "            if i > self.burn_in:   \n",
    "                samples[:, i-self.burn_in] = xx.copy().ravel()\n",
    "        \n",
    "        #plt.hist(samples[0])\n",
    "\n",
    "        return samples"
   ]
  },
  {
   "cell_type": "code",
   "execution_count": 18,
   "metadata": {},
   "outputs": [],
   "source": [
    "X_train = np.linspace(-5,5,50)\n",
    "y_train = np.sin(X_train) + np.random.normal(loc = 0, scale = 0.5,size=50)"
   ]
  },
  {
   "cell_type": "code",
   "execution_count": 19,
   "metadata": {},
   "outputs": [
    {
     "data": {
      "text/plain": [
       "[<matplotlib.lines.Line2D at 0x1a15971690>]"
      ]
     },
     "execution_count": 19,
     "metadata": {},
     "output_type": "execute_result"
    },
    {
     "data": {
      "image/png": "[encoded data removed]",
      "text/plain": [
       "<matplotlib.figure.Figure at 0x1a1597d290>"
      ]
     },
     "metadata": {},
     "output_type": "display_data"
    }
   ],
   "source": [
    "plt.plot(X_train, y_train, \"p\")"
   ]
  },
  {
   "cell_type": "code",
   "execution_count": 20,
   "metadata": {},
   "outputs": [],
   "source": [
    "kernel = kernels.Sum(kernels.Matern(nu=5./2.), kernels.WhiteKernel())\n",
    "gp = Gaussian_Process(kernel = kernel)"
   ]
  },
  {
   "cell_type": "code",
   "execution_count": 21,
   "metadata": {},
   "outputs": [
    {
     "name": "stdout",
     "output_type": "stream",
     "text": [
      "burn-in\n",
      "iteration 100\n",
      "iteration 200\n",
      "iteration 300\n",
      "iteration 400\n",
      "iteration 500\n",
      "iteration 600\n",
      "iteration 700\n",
      "iteration 800\n",
      "iteration 900\n"
     ]
    }
   ],
   "source": [
    "gp.optimise__with_splice_sampling(initial_theta = np.array([1.,1.]),\n",
    "                                  num_iters = 1000,\n",
    "                                  sigma = np.array([1.,1.]),\n",
    "                                  burn_in = 200,\n",
    "                                  X = X_train.reshape(-1, 1),\n",
    "                                  y = y_train)"
   ]
  },
  {
   "cell_type": "code",
   "execution_count": 22,
   "metadata": {},
   "outputs": [],
   "source": [
    "gp.fit(X_train.reshape(-1, 1), y_train)"
   ]
  },
  {
   "cell_type": "code",
   "execution_count": 23,
   "metadata": {},
   "outputs": [],
   "source": [
    "X_test = np.linspace(-10,10,100)\n",
    "mu, sigma = gp.predict(X_test.reshape(-1, 1))"
   ]
  },
  {
   "cell_type": "code",
   "execution_count": 25,
   "metadata": {},
   "outputs": [
    {
     "data": {
      "text/plain": [
       "[<matplotlib.lines.Line2D at 0x1a19492610>]"
      ]
     },
     "execution_count": 25,
     "metadata": {},
     "output_type": "execute_result"
    },
    {
     "data": {
      "image/png": "[encoded data removed]",
      "text/plain": [
       "<matplotlib.figure.Figure at 0x1a19492c10>"
      ]
     },
     "metadata": {},
     "output_type": "display_data"
    }
   ],
   "source": [
    "plt.plot(X_test, mu)\n",
    "plt.plot(X_test, mu+sigma)\n",
    "plt.plot(X_test, mu-sigma)\n",
    "plt.plot(X_train, y_train, \"p\")"
   ]
  },
  {
   "cell_type": "code",
   "execution_count": null,
   "metadata": {},
   "outputs": [],
   "source": []
  },
  {
   "cell_type": "code",
   "execution_count": null,
   "metadata": {},
   "outputs": [],
   "source": []
  }
 ],
 "metadata": {
  "kernelspec": {
   "display_name": "Python 2",
   "language": "python",
   "name": "python2"
  },
  "language_info": {
   "codemirror_mode": {
    "name": "ipython",
    "version": 2
   },
   "file_extension": ".py",
   "mimetype": "text/x-python",
   "name": "python",
   "nbconvert_exporter": "python",
   "pygments_lexer": "ipython2",
   "version": "2.7.14"
  }
 },
 "nbformat": 4,
 "nbformat_minor": 2
}
