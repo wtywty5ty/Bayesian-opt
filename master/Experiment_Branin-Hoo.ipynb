{
 "cells": [
  {
   "cell_type": "code",
   "execution_count": 1,
   "metadata": {
    "collapsed": true
   },
   "outputs": [],
   "source": [
    "from gp_master import *\n",
    "import numpy as np\n",
    "import matplotlib.pyplot as plt\n",
    "\n",
    "def branin(params):\n",
    "    x1 = params[0]\n",
    "    x2 = params[1]\n",
    "    a = 1.\n",
    "    b = 5.1 / (4*(np.pi**2))\n",
    "    c = 5 / np.pi\n",
    "    r = 6\n",
    "    s = 10.\n",
    "    t = 1. / (8.*np.pi)\n",
    "    ret  = a*(x2-b*(x1**2)+c*x1-r)**2+s*(1-t)*np.cos(x1)+s\n",
    "    return ret"
   ]
  },
  {
   "cell_type": "code",
   "execution_count": 2,
   "metadata": {
    "collapsed": true
   },
   "outputs": [],
   "source": [
    "def return_mean_std(y_list):\n",
    "    mean_list = list()\n",
    "    std_list = list()\n",
    "    for one_list in y_list:\n",
    "        mean_list.append(np.mean(one_list))\n",
    "        std_list.append(np.std(one_list))\n",
    "    return mean_list, std_list"
   ]
  },
  {
   "cell_type": "code",
   "execution_count": 3,
   "metadata": {
    "collapsed": true
   },
   "outputs": [],
   "source": [
    "# set parameters\n",
    "bounds = np.array([[0, 15], [-5, 15]])\n",
    "# maxeps specifies how many BOs we want to run\n",
    "maxeps = 10\n",
    "# n_iters is number of iterations we want for each run of BO\n",
    "n_iters = 50\n",
    "acqui_eva_num = 3\n",
    "n_pre_samples = 3\n",
    "y_list = list()\n",
    "slice_sample_num = 1\n",
    "coor_sigma = 5 * np.array([0.2,0.2,0.2,0.2])\n",
    "burn_in = 3\n",
    "input_dimension = 2\n",
    "mode = 'MAP'\n",
    "acqui_mode = 'MCMC'\n",
    "acqui_sample_num = 3"
   ]
  },
  {
   "cell_type": "code",
   "execution_count": 4,
   "metadata": {},
   "outputs": [
    {
     "name": "stdout",
     "output_type": "stream",
     "text": [
      "Running 1 episode\n",
      "25 iterations have been run\n",
      "50 iterations have been run\n",
      "Running 2 episode\n",
      "25 iterations have been run\n",
      "50 iterations have been run\n",
      "Running 3 episode\n",
      "25 iterations have been run\n",
      "50 iterations have been run\n",
      "Running 4 episode\n",
      "25 iterations have been run\n",
      "50 iterations have been run\n",
      "Running 5 episode\n",
      "25 iterations have been run\n",
      "50 iterations have been run\n",
      "Running 6 episode\n",
      "25 iterations have been run\n",
      "50 iterations have been run\n",
      "Running 7 episode\n",
      "25 iterations have been run\n",
      "50 iterations have been run\n",
      "Running 8 episode\n",
      "25 iterations have been run\n",
      "50 iterations have been run\n",
      "Running 9 episode\n",
      "25 iterations have been run\n",
      "50 iterations have been run\n",
      "Running 10 episode\n",
      "25 iterations have been run\n",
      "50 iterations have been run\n"
     ]
    }
   ],
   "source": [
    "for i in range(n_iters):\n",
    "    y_list.append(list())\n",
    "\n",
    "\n",
    "for j in range(maxeps):\n",
    "    print ('Running %d episode' % (j + 1))\n",
    "    xp, yp  = bayesian_optimisation(slice_sample_num, \n",
    "                                   coor_sigma, \n",
    "                                   burn_in, \n",
    "                                   input_dimension,\n",
    "                                   n_iters=n_iters, \n",
    "                                   sample_loss=branin, \n",
    "                                   bounds=bounds,\n",
    "                                   n_pre_samples=n_pre_samples,\n",
    "                                   acqui_eva_num = acqui_eva_num,\n",
    "                                   random_search=False,\n",
    "                                   greater_is_better = False,\n",
    "                                   mode = mode,\n",
    "                                  acqui_mode = acqui_mode,\n",
    "                                  acqui_sample_num = acqui_sample_num)\n",
    "    for idx in range(n_iters):\n",
    "        y_list[idx].append(np.min(yp[:idx+n_pre_samples+1]))"
   ]
  },
  {
   "cell_type": "code",
   "execution_count": 14,
   "metadata": {},
   "outputs": [],
   "source": [
    "mean_list, std_list = return_mean_std(y_list)"
   ]
  },
  {
   "cell_type": "code",
   "execution_count": 15,
   "metadata": {},
   "outputs": [
    {
     "data": {
      "image/png": "[encoded data removed]",
      "text/plain": [
       "<matplotlib.figure.Figure at 0xc3fd8d0>"
      ]
     },
     "metadata": {},
     "output_type": "display_data"
    }
   ],
   "source": [
    "x = [i+1 for i in range(len(y_list))]\n",
    "\n",
    "plt.errorbar(x, mean_list, yerr = std_list, fmt = '-o')\n",
    "\n",
    "plt.show()"
   ]
  },
  {
   "cell_type": "code",
   "execution_count": null,
   "metadata": {},
   "outputs": [
    {
     "name": "stdout",
     "output_type": "stream",
     "text": [
      "Running 1 episode\n",
      "25 iterations have been run\n",
      "50 iterations have been run\n",
      "Running 2 episode\n",
      "25 iterations have been run\n",
      "50 iterations have been run\n",
      "Running 3 episode\n"
     ]
    },
    {
     "name": "stderr",
     "output_type": "stream",
     "text": [
      "/Users/suyixuan/Documents/Python_Envs/py3gensim/lib/python3.5/site-packages/sklearn/gaussian_process/gpr.py:457: UserWarning: fmin_l_bfgs_b terminated abnormally with the  state: {'task': b'ABNORMAL_TERMINATION_IN_LNSRCH', 'funcalls': 116, 'grad': array([ 1.26300985e-07,  9.45378920e-06, -2.43300786e-05, -7.12639107e-06]), 'nit': 46, 'warnflag': 2}\n",
      "  \" state: %s\" % convergence_dict)\n"
     ]
    },
    {
     "name": "stdout",
     "output_type": "stream",
     "text": [
      "25 iterations have been run\n",
      "50 iterations have been run\n",
      "Running 4 episode\n",
      "25 iterations have been run\n",
      "50 iterations have been run\n",
      "Running 5 episode\n",
      "25 iterations have been run\n"
     ]
    },
    {
     "name": "stderr",
     "output_type": "stream",
     "text": [
      "/Users/suyixuan/Documents/Python_Envs/py3gensim/lib/python3.5/site-packages/sklearn/gaussian_process/gpr.py:457: UserWarning: fmin_l_bfgs_b terminated abnormally with the  state: {'task': b'ABNORMAL_TERMINATION_IN_LNSRCH', 'funcalls': 63, 'grad': array([ 6.03097864e-03, -2.27845481e+00, -4.63311798e-05, -1.23868732e-05]), 'nit': 16, 'warnflag': 2}\n",
      "  \" state: %s\" % convergence_dict)\n"
     ]
    },
    {
     "name": "stdout",
     "output_type": "stream",
     "text": [
      "50 iterations have been run\n",
      "Running 6 episode\n",
      "25 iterations have been run\n",
      "50 iterations have been run\n",
      "Running 7 episode\n",
      "25 iterations have been run\n"
     ]
    },
    {
     "name": "stderr",
     "output_type": "stream",
     "text": [
      "/Users/suyixuan/Documents/Python_Envs/py3gensim/lib/python3.5/site-packages/sklearn/gaussian_process/gpr.py:457: UserWarning: fmin_l_bfgs_b terminated abnormally with the  state: {'task': b'ABNORMAL_TERMINATION_IN_LNSRCH', 'funcalls': 80, 'grad': array([ 6.85900148e-03, -4.81445430e+00, -5.35364594e-04,  1.30683487e-03]), 'nit': 27, 'warnflag': 2}\n",
      "  \" state: %s\" % convergence_dict)\n"
     ]
    },
    {
     "name": "stdout",
     "output_type": "stream",
     "text": [
      "50 iterations have been run\n",
      "Running 8 episode\n",
      "25 iterations have been run\n",
      "50 iterations have been run\n",
      "Running 9 episode\n",
      "25 iterations have been run\n",
      "50 iterations have been run\n",
      "Running 10 episode\n",
      "25 iterations have been run\n"
     ]
    },
    {
     "name": "stderr",
     "output_type": "stream",
     "text": [
      "/Users/suyixuan/Documents/Python_Envs/py3gensim/lib/python3.5/site-packages/sklearn/gaussian_process/gpr.py:457: UserWarning: fmin_l_bfgs_b terminated abnormally with the  state: {'task': b'ABNORMAL_TERMINATION_IN_LNSRCH', 'funcalls': 86, 'grad': array([ 1.50380487e-03, -3.89528471e+00,  1.38131980e-04,  8.28383559e-05]), 'nit': 29, 'warnflag': 2}\n",
      "  \" state: %s\" % convergence_dict)\n"
     ]
    }
   ],
   "source": [
    "bounds = np.array([[0, 15], [-5, 15]])\n",
    "# maxeps specifies how many BOs we want to run\n",
    "maxeps = 10\n",
    "# n_iters is number of iterations we want for each run of BO\n",
    "n_iters = 50\n",
    "acqui_eva_num = 3\n",
    "n_pre_samples = 3\n",
    "y_list = list()\n",
    "slice_sample_num = 1\n",
    "coor_sigma = 5 * np.array([0.2,0.2,0.2,0.2])\n",
    "burn_in = 3\n",
    "input_dimension = 2\n",
    "mode = 'OPT'\n",
    "acqui_mode = 'OPT'\n",
    "acqui_sample_num = 3\n",
    "\n",
    "for i in range(n_iters):\n",
    "    y_list.append(list())\n",
    "\n",
    "\n",
    "for j in range(maxeps):\n",
    "    print ('Running %d episode' % (j + 1))\n",
    "    xp, yp = bayesian_optimisation(slice_sample_num, \n",
    "                                   coor_sigma, \n",
    "                                   burn_in, \n",
    "                                   input_dimension,\n",
    "                                   n_iters=n_iters, \n",
    "                                   sample_loss=branin, \n",
    "                                   bounds=bounds,\n",
    "                                   n_pre_samples=n_pre_samples,\n",
    "                                   acqui_eva_num = acqui_eva_num,\n",
    "                                   random_search=False,\n",
    "                                   greater_is_better = False,\n",
    "                                   mode = mode,\n",
    "                                  acqui_mode = acqui_mode,\n",
    "                                  acqui_sample_num = acqui_sample_num)\n",
    "    for idx in range(n_iters):\n",
    "        y_list[idx].append(np.min(yp[:idx+n_pre_samples+1]))"
   ]
  },
  {
   "cell_type": "code",
   "execution_count": null,
   "metadata": {},
   "outputs": [
    {
     "data": {
      "text/plain": [
       "[[160.30116403617473],\n",
       " [160.30116403617473],\n",
       " [107.34366392971013],\n",
       " [4.530855020671192],\n",
       " [4.530855020671192],\n",
       " [4.530855020671192],\n",
       " [4.530855020671192],\n",
       " [4.530855020671192],\n",
       " [4.530855020671192],\n",
       " [4.530855020671192],\n",
       " [4.530855020671192],\n",
       " [0.7677950510119498],\n",
       " [0.7677950510119498],\n",
       " [0.7677950510119498],\n",
       " [0.7677950510119498],\n",
       " [0.7677950510119498],\n",
       " [0.7677950510119498],\n",
       " [0.7677950510119498],\n",
       " [0.7677950510119498],\n",
       " [0.7677950510119498],\n",
       " [0.7677950510119498],\n",
       " [0.7677950510119498],\n",
       " [0.7677950510119498],\n",
       " [0.7677950510119498],\n",
       " [0.7677950510119498],\n",
       " [0.7677950510119498],\n",
       " [0.7677950510119498],\n",
       " [0.7677950510119498],\n",
       " [0.7677950510119498],\n",
       " [0.7677950510119498],\n",
       " [0.7677950510119498],\n",
       " [0.7677950510119498],\n",
       " [0.7677950510119498],\n",
       " [0.7677950510119498],\n",
       " [0.7677950510119498],\n",
       " [0.7677950510119498],\n",
       " [0.7677950510119498],\n",
       " [0.7677950510119498],\n",
       " [0.7677950510119498],\n",
       " [0.7677950510119498],\n",
       " [0.7677950510119498],\n",
       " [0.7677950510119498],\n",
       " [0.7677950510119498],\n",
       " [0.7677950510119498],\n",
       " [0.7677950510119498],\n",
       " [0.7677950510119498],\n",
       " [0.7677950510119498],\n",
       " [0.7677950510119498],\n",
       " [0.7677950510119498],\n",
       " [0.7677950510119498]]"
      ]
     },
     "execution_count": 6,
     "metadata": {},
     "output_type": "execute_result"
    }
   ],
   "source": [
    "mean_list, std_list = return_mean_std(y_list)\n",
    "\n",
    "x = [i+1 for i in range(len(y_list))]\n",
    "\n",
    "plt.errorbar(x, mean_list, yerr = std_list, fmt = '-o')\n",
    "\n",
    "plt.show()"
   ]
  },
  {
   "cell_type": "code",
   "execution_count": null,
   "metadata": {
    "collapsed": true
   },
   "outputs": [],
   "source": []
  }
 ],
 "metadata": {
  "kernelspec": {
   "display_name": "Python 2",
   "language": "python",
   "name": "python2"
  },
  "language_info": {
   "codemirror_mode": {
    "name": "ipython",
    "version": 2
   },
   "file_extension": ".py",
   "mimetype": "text/x-python",
   "name": "python",
   "nbconvert_exporter": "python",
   "pygments_lexer": "ipython2",
   "version": "2.7.13"
  }
 },
 "nbformat": 4,
 "nbformat_minor": 2
}
