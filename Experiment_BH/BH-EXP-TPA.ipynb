{
 "cells": [
  {
   "cell_type": "code",
   "execution_count": 1,
   "metadata": {},
   "outputs": [],
   "source": [
    "from hyperopt import hp"
   ]
  },
  {
   "cell_type": "code",
   "execution_count": 2,
   "metadata": {},
   "outputs": [],
   "source": [
    "import numpy as np\n",
    "def branin(params):\n",
    "    x1 = params[0]\n",
    "    x2 = params[1]\n",
    "    a = 1.\n",
    "    b = 5.1 / (4*(np.pi**2))\n",
    "    c = 5 / np.pi\n",
    "    r = 6\n",
    "    s = 10.\n",
    "    t = 1. / (8.*np.pi)\n",
    "    ret  = a*(x2-b*(x1**2)+c*x1-r)**2+s*(1-t)*np.cos(x1)+s\n",
    "    return ret"
   ]
  },
  {
   "cell_type": "code",
   "execution_count": 3,
   "metadata": {},
   "outputs": [],
   "source": [
    "space = [hp.uniform('x1', 0, 15), hp.uniform('x2', -5, 15)]"
   ]
  },
  {
   "cell_type": "code",
   "execution_count": 4,
   "metadata": {},
   "outputs": [
    {
     "name": "stdout",
     "output_type": "stream",
     "text": [
      "{'x1': 9.62236776524308, 'x2': 1.131212739432562}\n"
     ]
    }
   ],
   "source": [
    "from hyperopt import fmin, tpe, hp, Trials\n",
    "trials = Trials()\n",
    "best = fmin(fn=branin,\n",
    "    space=space,\n",
    "    algo=tpe.suggest,\n",
    "    max_evals=50,\n",
    "    trials=trials)\n",
    "print(best)"
   ]
  },
  {
   "cell_type": "code",
   "execution_count": 5,
   "metadata": {},
   "outputs": [
    {
     "name": "stdout",
     "output_type": "stream",
     "text": [
      "Running 1 episode\n",
      "Running 2 episode\n",
      "Running 3 episode\n",
      "Running 4 episode\n",
      "Running 5 episode\n",
      "Running 6 episode\n",
      "Running 7 episode\n",
      "Running 8 episode\n",
      "Running 9 episode\n",
      "Running 10 episode\n"
     ]
    }
   ],
   "source": [
    "y_list = list()\n",
    "\n",
    "for i in range(50):\n",
    "    y_list.append(list())\n",
    "    \n",
    "for j in range(10):\n",
    "    y_train = list()\n",
    "    print ('Running %d episode' % (j + 1))\n",
    "    trials = Trials()\n",
    "    best = fmin(fn=branin, space=space, algo=tpe.suggest, max_evals=50, trials=trials)\n",
    "    for i in range(50):\n",
    "       y_train.append(trials.results[i]['loss'])\n",
    "    \n",
    "    \n",
    "    for idx in range(len(y_train)):\n",
    "        if idx == 0:\n",
    "            y_list[idx].append(y_train[idx])\n",
    "        else:\n",
    "            y_list[idx].append(np.min(y_train[:idx]))"
   ]
  },
  {
   "cell_type": "code",
   "execution_count": 6,
   "metadata": {},
   "outputs": [],
   "source": [
    "def return_mean_std(y_list):\n",
    "    mean_list = list()\n",
    "    std_list = list()\n",
    "    for one_list in y_list:\n",
    "        mean_list.append(np.mean(one_list))\n",
    "        std_list.append(np.std(one_list))\n",
    "    return mean_list, std_list\n",
    "mean_list_TPA, std_list_TPA = return_mean_std(y_list)"
   ]
  },
  {
   "cell_type": "code",
   "execution_count": 7,
   "metadata": {},
   "outputs": [
    {
     "data": {
      "image/png": "[encoded data removed]",
      "text/plain": [
       "<matplotlib.figure.Figure at 0x116c18c1f28>"
      ]
     },
     "metadata": {},
     "output_type": "display_data"
    }
   ],
   "source": [
    "import matplotlib.pyplot as plt\n",
    "%matplotlib inline\n",
    "x_TPA = [i+1 for i in range(len(y_list))]\n",
    "\n",
    "plt.errorbar(x_TPA, mean_list_TPA, yerr = std_list_TPA, fmt = '-')\n",
    "\n",
    "plt.show()"
   ]
  },
  {
   "cell_type": "code",
   "execution_count": 8,
   "metadata": {},
   "outputs": [],
   "source": [
    "import pickle\n",
    "tpa_dict = {}\n",
    "tpa_dict['y_list'] = y_list\n",
    "with open('tpa.pkl','wb') as file:\n",
    "    pickle.dump(tpa_dict, file)"
   ]
  },
  {
   "cell_type": "code",
   "execution_count": 9,
   "metadata": {},
   "outputs": [],
   "source": [
    "with open('tpa.pkl', 'rb') as pickle_file:\n",
    "    data1 = pickle.load(pickle_file)"
   ]
  },
  {
   "cell_type": "code",
   "execution_count": 13,
   "metadata": {},
   "outputs": [],
   "source": [
    "import pickle\n",
    "import numpy as np\n",
    "import matplotlib.pyplot as plt\n",
    "def plot_data(mean_list, std_list, legend_list, color_list, y_label, x_label, title, legend_setting, a):\n",
    "    plt.xlabel(x_label)\n",
    "    plt.ylabel(y_label)\n",
    "    plt.title(title)\n",
    "    x = [i + 1 for i in range(len(mean_list[0]))]\n",
    "    for i in range(len(mean_list)):\n",
    "        legend = legend_list[i]\n",
    "        one_color = color_list[i]\n",
    "        one_mean = mean_list[i]\n",
    "        one_std = std_list[i]\n",
    "        plt.errorbar(x, one_mean, yerr = one_std, fmt = '-', color = one_color, label = legend)\n",
    "        \n",
    "    if legend_setting == 'outside':  \n",
    "        plt.legend(bbox_to_anchor=(a, 1), loc='upper right', ncol=1)\n",
    "    else:\n",
    "        plt.legend()\n",
    "    plt.ylim(0, 60)\n",
    "    plt.show()"
   ]
  },
  {
   "cell_type": "code",
   "execution_count": 14,
   "metadata": {},
   "outputs": [
    {
     "data": {
      "image/png": "[encoded data removed]",
      "text/plain": [
       "<matplotlib.figure.Figure at 0x116c2d4aba8>"
      ]
     },
     "metadata": {},
     "output_type": "display_data"
    }
   ],
   "source": [
    "mean_list = list()\n",
    "std_list = list()\n",
    "legend_list = list()\n",
    "with open('opt.pkl', 'rb') as pickle_file:\n",
    "    opt_res = pickle.load(pickle_file)\n",
    "mean_list_1, std_list_1 = return_mean_std(opt_res['y_list'])\n",
    "mean_list.append(mean_list_1)\n",
    "std_list.append(std_list_1)\n",
    "\n",
    "with open('branin_exp_0.pkl', 'rb') as pickle_file:\n",
    "    exp_0_res = pickle.load(pickle_file)\n",
    "mean_list_1, std_list_1 = return_mean_std(exp_0_res['y_list'])\n",
    "mean_list.append(mean_list_1)\n",
    "std_list.append(std_list_1)\n",
    "\n",
    "with open('tpa.pkl', 'rb') as pickle_file:\n",
    "    tpa_res = pickle.load(pickle_file)\n",
    "mean_list_1, std_list_1 = return_mean_std(tpa_res['y_list'])\n",
    "mean_list.append(mean_list_1)\n",
    "std_list.append(std_list_1)\n",
    "\n",
    "legend_list = [r'opt',r'mcmc',r'tpa']\n",
    "\n",
    "color_list = ['b','g','r']\n",
    "y_label = 'Function Value'\n",
    "x_label = 'Iteration'\n",
    "title = ''\n",
    "\n",
    "plot_data(mean_list, std_list, legend_list, color_list, y_label, x_label, title, legend_setting = 'None', a = 0)"
   ]
  },
  {
   "cell_type": "code",
   "execution_count": null,
   "metadata": {},
   "outputs": [],
   "source": []
  }
 ],
 "metadata": {
  "kernelspec": {
   "display_name": "Python 3",
   "language": "python",
   "name": "python3"
  },
  "language_info": {
   "codemirror_mode": {
    "name": "ipython",
    "version": 3
   },
   "file_extension": ".py",
   "mimetype": "text/x-python",
   "name": "python",
   "nbconvert_exporter": "python",
   "pygments_lexer": "ipython3",
   "version": "3.5.4"
  }
 },
 "nbformat": 4,
 "nbformat_minor": 2
}
