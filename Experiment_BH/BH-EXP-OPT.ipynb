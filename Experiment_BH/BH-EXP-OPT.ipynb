{
 "cells": [
  {
   "cell_type": "code",
   "execution_count": 3,
   "metadata": {},
   "outputs": [],
   "source": [
    "import sys\n",
    "sys.path.insert(0, '../BO')"
   ]
  },
  {
   "cell_type": "code",
   "execution_count": 4,
   "metadata": {},
   "outputs": [],
   "source": [
    "from gp import *\n",
    "import numpy as np\n",
    "def branin(params):\n",
    "    x1 = params[0]\n",
    "    x2 = params[1]\n",
    "    a = 1.\n",
    "    b = 5.1 / (4*(np.pi**2))\n",
    "    c = 5 / np.pi\n",
    "    r = 6\n",
    "    s = 10.\n",
    "    t = 1. / (8.*np.pi)\n",
    "    ret  = a*(x2-b*(x1**2)+c*x1-r)**2+s*(1-t)*np.cos(x1)+s\n",
    "    return ret"
   ]
  },
  {
   "cell_type": "code",
   "execution_count": 2,
   "metadata": {},
   "outputs": [],
   "source": [
    "bounds = np.array([[0, 15], [-5, 15]])\n",
    "# maxeps specifies how many BOs we want to run\n",
    "maxeps = 10\n",
    "# n_iters is number of iterations we want for each run of BO\n",
    "n_iters = 50\n",
    "acqui_eva_num = 5\n",
    "greater_is_better = False\n",
    "n_pre_samples = 3\n",
    "coor_sigma = 1 * np.array([0.2,0.2,0.2,0.2])\n",
    "burn_in = 20\n",
    "input_dimension = 2\n",
    "mode = 'OPT'\n",
    "acqui_mode = 'OPT'\n",
    "acqui_sample_num = 3\n",
    "process_sample_mode = 'normal'\n",
    "prior_mode ='normal_prior'\n",
    "likelihood_mode = 'normal_likelihood'"
   ]
  },
  {
   "cell_type": "code",
   "execution_count": 3,
   "metadata": {},
   "outputs": [
    {
     "name": "stdout",
     "output_type": "stream",
     "text": [
      "Running 1 episode\n",
      "Start presampling...\n",
      "Presampling finished.\n",
      "25 iterations have been run\n",
      "50 iterations have been run\n",
      "Running 2 episode\n",
      "Start presampling...\n",
      "Presampling finished.\n"
     ]
    },
    {
     "name": "stderr",
     "output_type": "stream",
     "text": [
      "/Users/suyixuan/Documents/Python_Envs/py3gensim/lib/python3.5/site-packages/sklearn/gaussian_process/gpr.py:457: UserWarning: fmin_l_bfgs_b terminated abnormally with the  state: {'funcalls': 94, 'grad': array([ 2.49990463e-01, -1.66232368e-05,  5.13502122e-05, -1.82849600e-04]), 'task': b'ABNORMAL_TERMINATION_IN_LNSRCH', 'nit': 31, 'warnflag': 2}\n",
      "  \" state: %s\" % convergence_dict)\n",
      "/Users/suyixuan/Documents/Python_Envs/py3gensim/lib/python3.5/site-packages/sklearn/gaussian_process/gpr.py:457: UserWarning: fmin_l_bfgs_b terminated abnormally with the  state: {'funcalls': 78, 'grad': array([ 2.46844025e-01,  8.45725203e-06, -1.46192255e-05,  5.16342609e-08]), 'task': b'ABNORMAL_TERMINATION_IN_LNSRCH', 'nit': 17, 'warnflag': 2}\n",
      "  \" state: %s\" % convergence_dict)\n",
      "/Users/suyixuan/Documents/Python_Envs/py3gensim/lib/python3.5/site-packages/sklearn/gaussian_process/gpr.py:457: UserWarning: fmin_l_bfgs_b terminated abnormally with the  state: {'funcalls': 81, 'grad': array([ 2.49979564e-01, -1.30009215e-04, -1.52462201e-04,  3.44038697e-04]), 'task': b'ABNORMAL_TERMINATION_IN_LNSRCH', 'nit': 27, 'warnflag': 2}\n",
      "  \" state: %s\" % convergence_dict)\n",
      "/Users/suyixuan/Documents/Python_Envs/py3gensim/lib/python3.5/site-packages/sklearn/gaussian_process/gpr.py:457: UserWarning: fmin_l_bfgs_b terminated abnormally with the  state: {'funcalls': 74, 'grad': array([ 2.49997766e-01, -1.89859678e-04,  7.60473686e-04, -4.26585760e-04]), 'task': b'ABNORMAL_TERMINATION_IN_LNSRCH', 'nit': 20, 'warnflag': 2}\n",
      "  \" state: %s\" % convergence_dict)\n",
      "/Users/suyixuan/Documents/Python_Envs/py3gensim/lib/python3.5/site-packages/sklearn/gaussian_process/gpr.py:457: UserWarning: fmin_l_bfgs_b terminated abnormally with the  state: {'funcalls': 98, 'grad': array([ 2.50029330e-01,  6.07576066e-05,  8.67656013e-05, -1.05057448e-04]), 'task': b'ABNORMAL_TERMINATION_IN_LNSRCH', 'nit': 34, 'warnflag': 2}\n",
      "  \" state: %s\" % convergence_dict)\n",
      "/Users/suyixuan/Documents/Python_Envs/py3gensim/lib/python3.5/site-packages/sklearn/gaussian_process/gpr.py:457: UserWarning: fmin_l_bfgs_b terminated abnormally with the  state: {'funcalls': 97, 'grad': array([ 2.50045546e-01, -4.02925361e-04,  8.53512057e-04,  1.94803790e-04]), 'task': b'ABNORMAL_TERMINATION_IN_LNSRCH', 'nit': 33, 'warnflag': 2}\n",
      "  \" state: %s\" % convergence_dict)\n",
      "/Users/suyixuan/Documents/Python_Envs/py3gensim/lib/python3.5/site-packages/sklearn/gaussian_process/gpr.py:457: UserWarning: fmin_l_bfgs_b terminated abnormally with the  state: {'funcalls': 77, 'grad': array([ 2.50049394e-01, -1.23183555e-04,  3.93007593e-04,  1.00432712e-04]), 'task': b'ABNORMAL_TERMINATION_IN_LNSRCH', 'nit': 23, 'warnflag': 2}\n",
      "  \" state: %s\" % convergence_dict)\n",
      "/Users/suyixuan/Documents/Python_Envs/py3gensim/lib/python3.5/site-packages/sklearn/gaussian_process/gpr.py:335: UserWarning: Predicted variances smaller than 0. Setting those variances to 0.\n",
      "  warnings.warn(\"Predicted variances smaller than 0. \"\n",
      "/Users/suyixuan/Documents/Python_Envs/py3gensim/lib/python3.5/site-packages/sklearn/gaussian_process/gpr.py:457: UserWarning: fmin_l_bfgs_b terminated abnormally with the  state: {'funcalls': 102, 'grad': array([ 2.50056664e-01,  5.54722826e-05,  1.90686019e-04, -3.17578902e-04]), 'task': b'ABNORMAL_TERMINATION_IN_LNSRCH', 'nit': 29, 'warnflag': 2}\n",
      "  \" state: %s\" % convergence_dict)\n",
      "/Users/suyixuan/Documents/Python_Envs/py3gensim/lib/python3.5/site-packages/sklearn/gaussian_process/gpr.py:457: UserWarning: fmin_l_bfgs_b terminated abnormally with the  state: {'funcalls': 72, 'grad': array([ 2.50362128e-01, -2.20848715e-01,  1.95833818e-05,  8.20917421e-06]), 'task': b'ABNORMAL_TERMINATION_IN_LNSRCH', 'nit': 21, 'warnflag': 2}\n",
      "  \" state: %s\" % convergence_dict)\n"
     ]
    },
    {
     "name": "stdout",
     "output_type": "stream",
     "text": [
      "25 iterations have been run\n"
     ]
    },
    {
     "name": "stderr",
     "output_type": "stream",
     "text": [
      "/Users/suyixuan/Documents/Python_Envs/py3gensim/lib/python3.5/site-packages/sklearn/gaussian_process/gpr.py:457: UserWarning: fmin_l_bfgs_b terminated abnormally with the  state: {'funcalls': 113, 'grad': array([ 2.50339446e-01, -4.85124228e-01, -3.61461416e-04, -3.49304256e-06]), 'task': b'ABNORMAL_TERMINATION_IN_LNSRCH', 'nit': 35, 'warnflag': 2}\n",
      "  \" state: %s\" % convergence_dict)\n",
      "/Users/suyixuan/Documents/Python_Envs/py3gensim/lib/python3.5/site-packages/sklearn/gaussian_process/gpr.py:457: UserWarning: fmin_l_bfgs_b terminated abnormally with the  state: {'funcalls': 99, 'grad': array([ 2.50339447e-01, -4.85210129e-01,  3.75014281e-05, -9.63447793e-06]), 'task': b'ABNORMAL_TERMINATION_IN_LNSRCH', 'nit': 33, 'warnflag': 2}\n",
      "  \" state: %s\" % convergence_dict)\n",
      "/Users/suyixuan/Documents/Python_Envs/py3gensim/lib/python3.5/site-packages/sklearn/gaussian_process/gpr.py:457: UserWarning: fmin_l_bfgs_b terminated abnormally with the  state: {'funcalls': 112, 'grad': array([ 2.50317401e-01, -7.70227246e-01,  5.05465658e-04,  6.53383645e-04]), 'task': b'ABNORMAL_TERMINATION_IN_LNSRCH', 'nit': 40, 'warnflag': 2}\n",
      "  \" state: %s\" % convergence_dict)\n",
      "/Users/suyixuan/Documents/Python_Envs/py3gensim/lib/python3.5/site-packages/sklearn/gaussian_process/gpr.py:457: UserWarning: fmin_l_bfgs_b terminated abnormally with the  state: {'funcalls': 105, 'grad': array([ 2.50246361e-01, -8.56580083e-01, -7.43708908e-04, -2.25833468e-04]), 'task': b'ABNORMAL_TERMINATION_IN_LNSRCH', 'nit': 30, 'warnflag': 2}\n",
      "  \" state: %s\" % convergence_dict)\n",
      "/Users/suyixuan/Documents/Python_Envs/py3gensim/lib/python3.5/site-packages/sklearn/gaussian_process/gpr.py:457: UserWarning: fmin_l_bfgs_b terminated abnormally with the  state: {'funcalls': 99, 'grad': array([ 2.50346715e-01, -1.24316011e+00, -2.40672770e-03,  1.22813162e-04]), 'task': b'ABNORMAL_TERMINATION_IN_LNSRCH', 'nit': 39, 'warnflag': 2}\n",
      "  \" state: %s\" % convergence_dict)\n",
      "/Users/suyixuan/Documents/Python_Envs/py3gensim/lib/python3.5/site-packages/sklearn/gaussian_process/gpr.py:457: UserWarning: fmin_l_bfgs_b terminated abnormally with the  state: {'funcalls': 102, 'grad': array([ 2.50582687e-01, -1.37088364e+00,  3.62897430e-04,  4.78498951e-05]), 'task': b'ABNORMAL_TERMINATION_IN_LNSRCH', 'nit': 30, 'warnflag': 2}\n",
      "  \" state: %s\" % convergence_dict)\n",
      "/Users/suyixuan/Documents/Python_Envs/py3gensim/lib/python3.5/site-packages/sklearn/gaussian_process/gpr.py:457: UserWarning: fmin_l_bfgs_b terminated abnormally with the  state: {'funcalls': 88, 'grad': array([ 2.50988812e-01, -4.43617270e+00, -3.80593563e-04, -1.84014121e-03]), 'task': b'ABNORMAL_TERMINATION_IN_LNSRCH', 'nit': 23, 'warnflag': 2}\n",
      "  \" state: %s\" % convergence_dict)\n",
      "/Users/suyixuan/Documents/Python_Envs/py3gensim/lib/python3.5/site-packages/sklearn/gaussian_process/gpr.py:457: UserWarning: fmin_l_bfgs_b terminated abnormally with the  state: {'funcalls': 120, 'grad': array([ 2.51084950e-01, -4.49432417e+00, -1.50142391e-03,  8.60634471e-04]), 'task': b'ABNORMAL_TERMINATION_IN_LNSRCH', 'nit': 44, 'warnflag': 2}\n",
      "  \" state: %s\" % convergence_dict)\n"
     ]
    },
    {
     "name": "stdout",
     "output_type": "stream",
     "text": [
      "50 iterations have been run\n",
      "Running 3 episode\n",
      "Start presampling...\n",
      "Presampling finished.\n",
      "25 iterations have been run\n",
      "50 iterations have been run\n",
      "Running 4 episode\n",
      "Start presampling...\n",
      "Presampling finished.\n",
      "25 iterations have been run\n"
     ]
    },
    {
     "name": "stderr",
     "output_type": "stream",
     "text": [
      "/Users/suyixuan/Documents/Python_Envs/py3gensim/lib/python3.5/site-packages/sklearn/gaussian_process/gpr.py:457: UserWarning: fmin_l_bfgs_b terminated abnormally with the  state: {'funcalls': 94, 'grad': array([ 3.51069022e-03, -2.12051277e+00, -1.23482998e-04, -1.76085323e-04]), 'task': b'ABNORMAL_TERMINATION_IN_LNSRCH', 'nit': 32, 'warnflag': 2}\n",
      "  \" state: %s\" % convergence_dict)\n"
     ]
    },
    {
     "name": "stdout",
     "output_type": "stream",
     "text": [
      "50 iterations have been run\n",
      "Running 5 episode\n",
      "Start presampling...\n",
      "Presampling finished.\n",
      "25 iterations have been run\n",
      "50 iterations have been run\n",
      "Running 6 episode\n",
      "Start presampling...\n",
      "Presampling finished.\n",
      "25 iterations have been run\n",
      "50 iterations have been run\n",
      "Running 7 episode\n",
      "Start presampling...\n",
      "Presampling finished.\n",
      "25 iterations have been run\n",
      "50 iterations have been run\n",
      "Running 8 episode\n",
      "Start presampling...\n",
      "Presampling finished.\n",
      "25 iterations have been run\n"
     ]
    },
    {
     "name": "stderr",
     "output_type": "stream",
     "text": [
      "/Users/suyixuan/Documents/Python_Envs/py3gensim/lib/python3.5/site-packages/sklearn/gaussian_process/gpr.py:457: UserWarning: fmin_l_bfgs_b terminated abnormally with the  state: {'funcalls': 143, 'grad': array([ 1.33865819e-02, -1.05729562e+00, -7.90944352e-04, -4.41686643e-06]), 'task': b'ABNORMAL_TERMINATION_IN_LNSRCH', 'nit': 51, 'warnflag': 2}\n",
      "  \" state: %s\" % convergence_dict)\n",
      "/Users/suyixuan/Documents/Python_Envs/py3gensim/lib/python3.5/site-packages/sklearn/gaussian_process/gpr.py:457: UserWarning: fmin_l_bfgs_b terminated abnormally with the  state: {'funcalls': 112, 'grad': array([ 1.33867148e-02, -1.05750761e+00,  3.26765810e-04, -7.27090410e-05]), 'task': b'ABNORMAL_TERMINATION_IN_LNSRCH', 'nit': 34, 'warnflag': 2}\n",
      "  \" state: %s\" % convergence_dict)\n"
     ]
    },
    {
     "name": "stdout",
     "output_type": "stream",
     "text": [
      "50 iterations have been run\n",
      "Running 9 episode\n",
      "Start presampling...\n",
      "Presampling finished.\n",
      "25 iterations have been run\n"
     ]
    },
    {
     "name": "stderr",
     "output_type": "stream",
     "text": [
      "/Users/suyixuan/Documents/Python_Envs/py3gensim/lib/python3.5/site-packages/sklearn/gaussian_process/gpr.py:457: UserWarning: fmin_l_bfgs_b terminated abnormally with the  state: {'funcalls': 85, 'grad': array([ 0.02929515, -1.16439893, -0.00458658,  0.00134901]), 'task': b'ABNORMAL_TERMINATION_IN_LNSRCH', 'nit': 26, 'warnflag': 2}\n",
      "  \" state: %s\" % convergence_dict)\n",
      "/Users/suyixuan/Documents/Python_Envs/py3gensim/lib/python3.5/site-packages/sklearn/gaussian_process/gpr.py:457: UserWarning: fmin_l_bfgs_b terminated abnormally with the  state: {'funcalls': 105, 'grad': array([ 3.46142054e-02, -1.64124160e+00, -1.58114784e-03, -1.51641051e-03]), 'task': b'ABNORMAL_TERMINATION_IN_LNSRCH', 'nit': 34, 'warnflag': 2}\n",
      "  \" state: %s\" % convergence_dict)\n"
     ]
    },
    {
     "name": "stdout",
     "output_type": "stream",
     "text": [
      "50 iterations have been run\n",
      "Running 10 episode\n",
      "Start presampling...\n",
      "Presampling finished.\n",
      "25 iterations have been run\n"
     ]
    },
    {
     "name": "stderr",
     "output_type": "stream",
     "text": [
      "/Users/suyixuan/Documents/Python_Envs/py3gensim/lib/python3.5/site-packages/sklearn/gaussian_process/gpr.py:457: UserWarning: fmin_l_bfgs_b terminated abnormally with the  state: {'funcalls': 108, 'grad': array([ 2.15393891e-03, -2.93692051e+00,  1.37132014e-03,  1.57102273e-04]), 'task': b'ABNORMAL_TERMINATION_IN_LNSRCH', 'nit': 39, 'warnflag': 2}\n",
      "  \" state: %s\" % convergence_dict)\n"
     ]
    },
    {
     "name": "stdout",
     "output_type": "stream",
     "text": [
      "50 iterations have been run\n"
     ]
    }
   ],
   "source": [
    "y_list = list()\n",
    "\n",
    "for i in range(n_iters):\n",
    "    y_list.append(list())\n",
    "\n",
    "\n",
    "for j in range(maxeps):\n",
    "    print ('Running %d episode' % (j + 1))\n",
    "    xp, yp = bayesian_optimisation(coor_sigma = coor_sigma, \n",
    "                                   burn_in = burn_in, \n",
    "                                   input_dimension = input_dimension,\n",
    "                                   n_iters = n_iters, \n",
    "                                   sample_loss = branin, \n",
    "                                   bounds = bounds, \n",
    "                                   n_pre_samples = n_pre_samples, \n",
    "                                   acqui_eva_num = acqui_eva_num,  \n",
    "                                   greater_is_better=greater_is_better, \n",
    "                                   mode = mode, \n",
    "                                   acqui_mode = acqui_mode, \n",
    "                                   acqui_sample_num = acqui_sample_num,   \n",
    "                                   process_sample_mode = process_sample_mode, \n",
    "                                   prior_mode = prior_mode, \n",
    "                                   likelihood_mode = likelihood_mode)\n",
    "    y_train = yp[n_pre_samples:]\n",
    "    for idx in range(len(y_train)):\n",
    "        if idx == 0:\n",
    "            y_list[idx].append(y_train[idx])\n",
    "        else:\n",
    "            y_list[idx].append(np.min(y_train[:idx]))"
   ]
  },
  {
   "cell_type": "code",
   "execution_count": 4,
   "metadata": {},
   "outputs": [],
   "source": [
    "def return_mean_std(y_list):\n",
    "    mean_list = list()\n",
    "    std_list = list()\n",
    "    for one_list in y_list:\n",
    "        mean_list.append(np.mean(one_list))\n",
    "        std_list.append(np.std(one_list))\n",
    "    return mean_list, std_list\n",
    "mean_list_MCMC, std_list_MCMC = return_mean_std(y_list)"
   ]
  },
  {
   "cell_type": "code",
   "execution_count": 7,
   "metadata": {},
   "outputs": [
    {
     "data": {
      "image/png": "[encoded data removed]",
      "text/plain": [
       "<matplotlib.figure.Figure at 0x10a9de048>"
      ]
     },
     "metadata": {},
     "output_type": "display_data"
    }
   ],
   "source": [
    "import matplotlib.pyplot as plt\n",
    "x_MCMC = [i+1 for i in range(len(y_list))]\n",
    "\n",
    "plt.errorbar(x_MCMC, mean_list_MCMC, yerr = std_list_MCMC, fmt = '-')\n",
    "\n",
    "plt.show()"
   ]
  },
  {
   "cell_type": "code",
   "execution_count": null,
   "metadata": {},
   "outputs": [],
   "source": []
  },
  {
   "cell_type": "code",
   "execution_count": 11,
   "metadata": {},
   "outputs": [],
   "source": [
    "import pickle\n",
    "opt_dict = {}\n",
    "opt_dict['y_list'] = y_list\n",
    "with open('opt_res.pkl','wb') as file:\n",
    "    pickle.dump(opt_dict, file)"
   ]
  },
  {
   "cell_type": "code",
   "execution_count": 15,
   "metadata": {},
   "outputs": [],
   "source": [
    "with open('opt_res.pkl', 'rb') as pickle_file:\n",
    "    data1 = pickle.load(pickle_file)"
   ]
  },
  {
   "cell_type": "code",
   "execution_count": null,
   "metadata": {},
   "outputs": [],
   "source": []
  },
  {
   "cell_type": "code",
   "execution_count": null,
   "metadata": {},
   "outputs": [],
   "source": []
  }
 ],
 "metadata": {
  "kernelspec": {
   "display_name": "Python 2",
   "language": "python",
   "name": "python2"
  },
  "language_info": {
   "codemirror_mode": {
    "name": "ipython",
    "version": 2
   },
   "file_extension": ".py",
   "mimetype": "text/x-python",
   "name": "python",
   "nbconvert_exporter": "python",
   "pygments_lexer": "ipython2",
   "version": "2.7.14"
  }
 },
 "nbformat": 4,
 "nbformat_minor": 2
}
