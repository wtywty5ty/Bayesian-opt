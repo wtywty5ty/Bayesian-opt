{
 "cells": [
  {
   "cell_type": "code",
   "execution_count": 1,
   "metadata": {},
   "outputs": [],
   "source": [
    "from gp_master import *\n",
    "import numpy as np\n",
    "import matplotlib.pyplot as plt\n",
    "\n",
    "def branin(params):\n",
    "    x1 = params[0]\n",
    "    x2 = params[1]\n",
    "    a = 1.\n",
    "    b = 5.1 / (4*(np.pi**2))\n",
    "    c = 5 / np.pi\n",
    "    r = 6\n",
    "    s = 10.\n",
    "    t = 1. / (8.*np.pi)\n",
    "    ret  = a*(x2-b*(x1**2)+c*x1-r)**2+s*(1-t)*np.cos(x1)+s\n",
    "    return ret"
   ]
  },
  {
   "cell_type": "code",
   "execution_count": 2,
   "metadata": {},
   "outputs": [],
   "source": [
    "def return_mean_std(y_list):\n",
    "    mean_list = list()\n",
    "    std_list = list()\n",
    "    for one_list in y_list:\n",
    "        mean_list.append(np.mean(one_list))\n",
    "        std_list.append(np.std(one_list))\n",
    "    return mean_list, std_list"
   ]
  },
  {
   "cell_type": "code",
   "execution_count": 3,
   "metadata": {},
   "outputs": [],
   "source": [
    "# set parameters\n",
    "bounds = np.array([[0, 15], [-5, 15]])\n",
    "# maxeps specifies how many BOs we want to run\n",
    "maxeps = 10\n",
    "# n_iters is number of iterations we want for each run of BO\n",
    "n_iters = 50\n",
    "acqui_eva_num = 3\n",
    "n_pre_samples = 3\n",
    "y_list = list()\n",
    "slice_sample_num = 1\n",
    "coor_sigma = 5 * np.array([0.2,0.2,0.2,0.2])\n",
    "burn_in = 3\n",
    "input_dimension = 2\n",
    "mode = 'MAP'\n",
    "acqui_mode = 'MCMC'\n",
    "acqui_sample_num = 3"
   ]
  },
  {
   "cell_type": "code",
   "execution_count": 5,
   "metadata": {},
   "outputs": [
    {
     "name": "stdout",
     "output_type": "stream",
     "text": [
      "Running 1 episode\n",
      "Start pre-sampling...\n",
      "Pre-sampling finished.\n",
      "25 actucal iterations have been run\n",
      "50 actucal iterations have been run\n",
      "Running 2 episode\n",
      "Start pre-sampling...\n",
      "Pre-sampling finished.\n",
      "25 actucal iterations have been run\n",
      "50 actucal iterations have been run\n",
      "Running 3 episode\n",
      "Start pre-sampling...\n",
      "Pre-sampling finished.\n",
      "25 actucal iterations have been run\n",
      "50 actucal iterations have been run\n",
      "Running 4 episode\n",
      "Start pre-sampling...\n",
      "Pre-sampling finished.\n",
      "25 actucal iterations have been run\n",
      "50 actucal iterations have been run\n",
      "Running 5 episode\n",
      "Start pre-sampling...\n",
      "Pre-sampling finished.\n",
      "25 actucal iterations have been run\n",
      "50 actucal iterations have been run\n",
      "Running 6 episode\n",
      "Start pre-sampling...\n",
      "Pre-sampling finished.\n",
      "25 actucal iterations have been run\n",
      "50 actucal iterations have been run\n",
      "Running 7 episode\n",
      "Start pre-sampling...\n",
      "Pre-sampling finished.\n",
      "25 actucal iterations have been run\n",
      "50 actucal iterations have been run\n",
      "Running 8 episode\n",
      "Start pre-sampling...\n",
      "Pre-sampling finished.\n",
      "25 actucal iterations have been run\n",
      "50 actucal iterations have been run\n",
      "Running 9 episode\n",
      "Start pre-sampling...\n",
      "Pre-sampling finished.\n",
      "25 actucal iterations have been run\n",
      "50 actucal iterations have been run\n",
      "Running 10 episode\n",
      "Start pre-sampling...\n",
      "Pre-sampling finished.\n",
      "25 actucal iterations have been run\n",
      "50 actucal iterations have been run\n"
     ]
    }
   ],
   "source": [
    "y_list = list()\n",
    "for i in range(n_iters):\n",
    "    y_list.append(list())\n",
    "\n",
    "\n",
    "for j in range(maxeps):\n",
    "    print ('Running %d episode' % (j + 1))\n",
    "    xp, yp, timep  = bayesian_optimisation(slice_sample_num, \n",
    "                                   coor_sigma, \n",
    "                                   burn_in, \n",
    "                                   input_dimension,\n",
    "                                   n_iters=n_iters, \n",
    "                                   sample_loss=branin, \n",
    "                                   bounds=bounds,\n",
    "                                   n_pre_samples=n_pre_samples,\n",
    "                                   acqui_eva_num = acqui_eva_num,\n",
    "                                   random_search=False,\n",
    "                                   greater_is_better = False,\n",
    "                                   mode = mode,\n",
    "                                  acqui_mode = acqui_mode,\n",
    "                                  acqui_sample_num = acqui_sample_num)\n",
    "    for idx in range(n_iters):\n",
    "        y_list[idx].append(np.min(yp[:idx+n_pre_samples+1]))"
   ]
  },
  {
   "cell_type": "code",
   "execution_count": 44,
   "metadata": {},
   "outputs": [],
   "source": [
    "mean_list_MCMC, std_list_MCMC = return_mean_std(y_list)\n",
    "timep_MCMC = timep"
   ]
  },
  {
   "cell_type": "code",
   "execution_count": 45,
   "metadata": {},
   "outputs": [
    {
     "data": {
      "image/png": "[encoded data removed]",
      "text/plain": [
       "<matplotlib.figure.Figure at 0x7f16bcf339d0>"
      ]
     },
     "metadata": {},
     "output_type": "display_data"
    }
   ],
   "source": [
    "x_MCMC = [i+1 for i in range(len(y_list))]\n",
    "\n",
    "plt.errorbar(x_MCMC, mean_list_MCMC, yerr = std_list_MCMC, fmt = '-o')\n",
    "\n",
    "plt.show()"
   ]
  },
  {
   "cell_type": "code",
   "execution_count": 46,
   "metadata": {},
   "outputs": [],
   "source": [
    "file = open(\"branin_MCMC.txt\", \"w\")\n",
    "\n",
    "file.write(str(x_MCMC))\n",
    "\n",
    "file.write(\"\\n\")\n",
    "\n",
    "file.write(str(mean_list_MCMC))\n",
    "\n",
    "file.write(\"\\n\")\n",
    "\n",
    "file.write(str(std_list_MCMC))\n",
    "\n",
    "file.write(\"\\n\")\n",
    "\n",
    "file.write(str(timep_MCMC))\n",
    "\n",
    "file.close()\n"
   ]
  },
  {
   "cell_type": "code",
   "execution_count": 47,
   "metadata": {},
   "outputs": [
    {
     "name": "stdout",
     "output_type": "stream",
     "text": [
      "Running 1 episode\n",
      "Start pre-sampling...\n",
      "Pre-sampling finished.\n",
      "25 actucal iterations have been run\n",
      "50 actucal iterations have been run\n",
      "Running 2 episode\n",
      "Start pre-sampling...\n",
      "Pre-sampling finished.\n",
      "25 actucal iterations have been run\n",
      "50 actucal iterations have been run\n",
      "Running 3 episode\n",
      "Start pre-sampling...\n",
      "Pre-sampling finished.\n",
      "25 actucal iterations have been run\n",
      "50 actucal iterations have been run\n",
      "Running 4 episode\n",
      "Start pre-sampling...\n",
      "Pre-sampling finished.\n",
      "25 actucal iterations have been run\n",
      "50 actucal iterations have been run\n",
      "Running 5 episode\n",
      "Start pre-sampling...\n",
      "Pre-sampling finished.\n",
      "25 actucal iterations have been run\n",
      "50 actucal iterations have been run\n",
      "Running 6 episode\n",
      "Start pre-sampling...\n",
      "Pre-sampling finished.\n",
      "25 actucal iterations have been run\n",
      "50 actucal iterations have been run\n",
      "Running 7 episode\n",
      "Start pre-sampling...\n",
      "Pre-sampling finished.\n",
      "25 actucal iterations have been run\n"
     ]
    },
    {
     "name": "stderr",
     "output_type": "stream",
     "text": [
      "/usr/local/lib/python2.7/dist-packages/sklearn/gaussian_process/gpr.py:308: UserWarning: Predicted variances smaller than 0. Setting those variances to 0.\n",
      "  warnings.warn(\"Predicted variances smaller than 0. \"\n"
     ]
    },
    {
     "name": "stdout",
     "output_type": "stream",
     "text": [
      "50 actucal iterations have been run\n",
      "Running 8 episode\n",
      "Start pre-sampling...\n",
      "Pre-sampling finished.\n",
      "25 actucal iterations have been run\n",
      "50 actucal iterations have been run\n",
      "Running 9 episode\n",
      "Start pre-sampling...\n",
      "Pre-sampling finished.\n",
      "25 actucal iterations have been run\n",
      "50 actucal iterations have been run\n",
      "Running 10 episode\n",
      "Start pre-sampling...\n",
      "Pre-sampling finished.\n"
     ]
    },
    {
     "name": "stderr",
     "output_type": "stream",
     "text": [
      "/usr/local/lib/python2.7/dist-packages/sklearn/gaussian_process/gpr.py:427: UserWarning: fmin_l_bfgs_b terminated abnormally with the  state: {'warnflag': 2, 'task': 'ABNORMAL_TERMINATION_IN_LNSRCH', 'grad': array([ 5.15014638e-02, -4.89152694e-05,  2.31264342e-04, -4.87568440e-05]), 'nit': 42, 'funcalls': 116}\n",
      "  \" state: %s\" % convergence_dict)\n",
      "/usr/local/lib/python2.7/dist-packages/sklearn/gaussian_process/gpr.py:427: UserWarning: fmin_l_bfgs_b terminated abnormally with the  state: {'warnflag': 2, 'task': 'ABNORMAL_TERMINATION_IN_LNSRCH', 'grad': array([ 5.53530456e-02, -2.09819782e-01,  5.82604512e-05,  1.26850639e-05]), 'nit': 26, 'funcalls': 87}\n",
      "  \" state: %s\" % convergence_dict)\n"
     ]
    },
    {
     "name": "stdout",
     "output_type": "stream",
     "text": [
      "25 actucal iterations have been run\n",
      "50 actucal iterations have been run\n"
     ]
    }
   ],
   "source": [
    "bounds = np.array([[0, 15], [-5, 15]])\n",
    "# maxeps specifies how many BOs we want to run\n",
    "maxeps = 10\n",
    "# n_iters is number of iterations we want for each run of BO\n",
    "n_iters = 50\n",
    "acqui_eva_num = 3\n",
    "n_pre_samples = 3\n",
    "y_list = list()\n",
    "slice_sample_num = 1\n",
    "coor_sigma = 5 * np.array([0.2,0.2,0.2,0.2])\n",
    "burn_in = 3\n",
    "input_dimension = 2\n",
    "mode = 'OPT'\n",
    "acqui_mode = 'OPT'\n",
    "acqui_sample_num = 3\n",
    "\n",
    "for i in range(n_iters):\n",
    "    y_list.append(list())\n",
    "\n",
    "\n",
    "for j in range(maxeps):\n",
    "    print ('Running %d episode' % (j + 1))\n",
    "    xp, yp, timep = bayesian_optimisation(slice_sample_num, \n",
    "                                   coor_sigma, \n",
    "                                   burn_in, \n",
    "                                   input_dimension,\n",
    "                                   n_iters=n_iters, \n",
    "                                   sample_loss=branin, \n",
    "                                   bounds=bounds,\n",
    "                                   n_pre_samples=n_pre_samples,\n",
    "                                   acqui_eva_num = acqui_eva_num,\n",
    "                                   random_search=False,\n",
    "                                   greater_is_better = False,\n",
    "                                   mode = mode,\n",
    "                                  acqui_mode = acqui_mode,\n",
    "                                  acqui_sample_num = acqui_sample_num)\n",
    "    for idx in range(n_iters):\n",
    "        y_list[idx].append(np.min(yp[:idx+n_pre_samples+1]))"
   ]
  },
  {
   "cell_type": "code",
   "execution_count": 58,
   "metadata": {},
   "outputs": [
    {
     "data": {
      "image/png": "[encoded data removed]",
      "text/plain": [
       "<matplotlib.figure.Figure at 0x7f16bb672450>"
      ]
     },
     "metadata": {},
     "output_type": "display_data"
    }
   ],
   "source": [
    "mean_list_OPT, std_list_OPT = return_mean_std(y_list)\n",
    "timep_OPT = timep\n",
    "\n",
    "x_OPT = [i+1 for i in range(len(y_list))]\n",
    "\n",
    "plt.errorbar(x_OPT, mean_list_OPT, yerr = std_list_OPT, fmt = '-o')\n",
    "plt.errorbar(x_MCMC, mean_list_MCMC, yerr = std_list_MCMC, fmt = '-o')\n",
    "\n",
    "plt.show()"
   ]
  },
  {
   "cell_type": "code",
   "execution_count": 51,
   "metadata": {},
   "outputs": [],
   "source": [
    "file = open(\"branin_OPT.txt\", \"w\")\n",
    "\n",
    "file.write(str(x_OPT))\n",
    "\n",
    "file.write(\"\\n\")\n",
    "\n",
    "file.write(str(mean_list_OPT))\n",
    "\n",
    "file.write(\"\\n\")\n",
    "\n",
    "file.write(str(std_list_OPT))\n",
    "\n",
    "file.write(\"\\n\")\n",
    "\n",
    "file.write(str(timep_OPT))\n",
    "\n",
    "file.close()\n"
   ]
  },
  {
   "cell_type": "code",
   "execution_count": null,
   "metadata": {
    "collapsed": true
   },
   "outputs": [],
   "source": []
  }
 ],
 "metadata": {
  "kernelspec": {
   "display_name": "Python 2",
   "language": "python",
   "name": "python2"
  },
  "language_info": {
   "codemirror_mode": {
    "name": "ipython",
    "version": 2
   },
   "file_extension": ".py",
   "mimetype": "text/x-python",
   "name": "python",
   "nbconvert_exporter": "python",
   "pygments_lexer": "ipython2",
   "version": "2.7.14"
  }
 },
 "nbformat": 4,
 "nbformat_minor": 2
}
