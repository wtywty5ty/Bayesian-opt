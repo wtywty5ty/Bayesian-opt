{
 "cells": [
  {
   "cell_type": "code",
   "execution_count": 1,
   "metadata": {},
   "outputs": [],
   "source": [
    "from gp import *\n",
    "import numpy as np\n",
    "def branin(params):\n",
    "    x1 = params[0]\n",
    "    x2 = params[1]\n",
    "    a = 1.\n",
    "    b = 5.1 / (4*(np.pi**2))\n",
    "    c = 5 / np.pi\n",
    "    r = 6\n",
    "    s = 10.\n",
    "    t = 1. / (8.*np.pi)\n",
    "    ret  = a*(x2-b*(x1**2)+c*x1-r)**2+s*(1-t)*np.cos(x1)+s\n",
    "    return ret"
   ]
  },
  {
   "cell_type": "code",
   "execution_count": 2,
   "metadata": {},
   "outputs": [],
   "source": [
    "bounds = np.array([[0, 15], [-5, 15]])\n",
    "# maxeps specifies how many BOs we want to run\n",
    "maxeps = 10\n",
    "# n_iters is number of iterations we want for each run of BO\n",
    "n_iters = 50\n",
    "acqui_eva_num = 5\n",
    "greater_is_better = False\n",
    "n_pre_samples = 3\n",
    "coor_sigma = 1 * np.array([0.2,0.2,0.2,0.2])\n",
    "burn_in = 20\n",
    "input_dimension = 2\n",
    "mode = 'MAP'\n",
    "acqui_mode = 'MCMC'\n",
    "acqui_sample_num = 3\n",
    "process_sample_mode = 'normal'\n",
    "prior_mode ='normal_prior'\n",
    "likelihood_mode = 'normal_likelihood'"
   ]
  },
  {
   "cell_type": "code",
   "execution_count": null,
   "metadata": {},
   "outputs": [
    {
     "name": "stdout",
     "output_type": "stream",
     "text": [
      "Running 1 episode\n",
      "Start presampling...\n",
      "Presampling finished.\n",
      "25 iterations have been run\n",
      "50 iterations have been run\n",
      "Running 2 episode\n",
      "Start presampling...\n",
      "Presampling finished.\n"
     ]
    }
   ],
   "source": [
    "y_list = list()\n",
    "\n",
    "for i in range(n_iters):\n",
    "    y_list.append(list())\n",
    "\n",
    "\n",
    "for j in range(maxeps):\n",
    "    print ('Running %d episode' % (j + 1))\n",
    "    xp, yp = bayesian_optimisation(coor_sigma = coor_sigma, \n",
    "                                   burn_in = burn_in, \n",
    "                                   input_dimension = input_dimension,\n",
    "                                   n_iters = n_iters, \n",
    "                                   sample_loss = branin, \n",
    "                                   bounds = bounds, \n",
    "                                   n_pre_samples = n_pre_samples, \n",
    "                                   acqui_eva_num = acqui_eva_num,  \n",
    "                                   greater_is_better=greater_is_better, \n",
    "                                   mode = mode, \n",
    "                                   acqui_mode = acqui_mode, \n",
    "                                   acqui_sample_num = acqui_sample_num,   \n",
    "                                   process_sample_mode = process_sample_mode, \n",
    "                                   prior_mode = prior_mode, \n",
    "                                   likelihood_mode = likelihood_mode)\n",
    "    y_train = yp[n_pre_samples:]\n",
    "    for idx in range(len(y_train)):\n",
    "        if idx == 0:\n",
    "            y_list[idx].append(y_train[idx])\n",
    "        else:\n",
    "            y_list[idx].append(np.min(y_train[:idx]))"
   ]
  },
  {
   "cell_type": "code",
   "execution_count": 4,
   "metadata": {},
   "outputs": [
    {
     "data": {
      "text/plain": [
       "[[26.885771769418554],\n",
       " [26.885771769418554],\n",
       " [7.341190248125766],\n",
       " [7.341190248125766],\n",
       " [7.341190248125766],\n",
       " [7.341190248125766],\n",
       " [7.341190248125766],\n",
       " [7.341190248125766],\n",
       " [7.341190248125766],\n",
       " [7.341190248125766],\n",
       " [0.5905350021505686],\n",
       " [0.5905350021505686],\n",
       " [0.5905350021505686],\n",
       " [0.5905350021505686],\n",
       " [0.5905350021505686],\n",
       " [0.5905350021505686],\n",
       " [0.5905350021505686],\n",
       " [0.5905350021505686],\n",
       " [0.5905350021505686],\n",
       " [0.5905350021505686],\n",
       " [0.5905350021505686],\n",
       " [0.5905350021505686],\n",
       " [0.5905350021505686],\n",
       " [0.5905350021505686],\n",
       " [0.5905350021505686],\n",
       " [0.5905350021505686],\n",
       " [0.5905350021505686],\n",
       " [0.5905350021505686],\n",
       " [0.5905350021505686],\n",
       " [0.5905350021505686],\n",
       " [0.5905350021505686],\n",
       " [0.5905350021505686],\n",
       " [0.5905350021505686],\n",
       " [0.5905350021505686],\n",
       " [0.5905350021505686],\n",
       " [0.5905350021505686],\n",
       " [0.5905350021505686],\n",
       " [0.5905350021505686],\n",
       " [0.5905350021505686],\n",
       " [0.5905350021505686],\n",
       " [0.5905350021505686],\n",
       " [0.5905350021505686],\n",
       " [0.5905350021505686],\n",
       " [0.5905350021505686],\n",
       " [0.5905350021505686],\n",
       " [0.5905350021505686],\n",
       " [0.5905350021505686],\n",
       " [0.5905350021505686],\n",
       " [0.5905350021505686],\n",
       " [0.5905350021505686]]"
      ]
     },
     "execution_count": 4,
     "metadata": {},
     "output_type": "execute_result"
    }
   ],
   "source": [
    "y_list"
   ]
  },
  {
   "cell_type": "code",
   "execution_count": null,
   "metadata": {},
   "outputs": [],
   "source": []
  }
 ],
 "metadata": {
  "kernelspec": {
   "display_name": "Python 3",
   "language": "python",
   "name": "python3"
  },
  "language_info": {
   "codemirror_mode": {
    "name": "ipython",
    "version": 3
   },
   "file_extension": ".py",
   "mimetype": "text/x-python",
   "name": "python",
   "nbconvert_exporter": "python",
   "pygments_lexer": "ipython3",
   "version": "3.5.2"
  }
 },
 "nbformat": 4,
 "nbformat_minor": 2
}
