{
 "cells": [
  {
   "cell_type": "code",
   "execution_count": 109,
   "metadata": {},
   "outputs": [],
   "source": [
    "from sklearn.gaussian_process import GaussianProcessRegressor, kernels\n",
    "from sklearn.datasets import make_regression\n",
    "import numpy as np\n",
    "import matplotlib.pyplot as plt\n",
    "import scipy.stats as ss\n",
    "from sklearn.model_selection import train_test_split\n",
    "from sklearn.metrics import mean_squared_error, r2_score"
   ]
  },
  {
   "cell_type": "code",
   "execution_count": 110,
   "metadata": {},
   "outputs": [],
   "source": [
    "% matplotlib inline"
   ]
  },
  {
   "cell_type": "code",
   "execution_count": 111,
   "metadata": {},
   "outputs": [],
   "source": [
    "class Gaussian_Process():\n",
    "    \n",
    "    def __init__(self, kernel):\n",
    "        self.kernel = kernel\n",
    "        self.gp_ = GaussianProcessRegressor(kernel=kernel,\n",
    "                                            optimizer = None,\n",
    "                                            normalize_y = True)\n",
    "    \n",
    "    def optimise_with_splice_sampling(self, initial_rho, num_iters, sigma, burn_in,  X, y):\n",
    "        self.fit(X, y)\n",
    "        slice_sampler = Slice_sampler(num_iters = num_iters, \n",
    "                                      sigma = sigma, \n",
    "                                      burn_in = burn_in,\n",
    "                                      gp = self)\n",
    "        samples = slice_sampler.sample(init = initial_rho)\n",
    "        \n",
    "        rho_opt = [np.mean(samples_k) for samples_k in samples]\n",
    "        \n",
    "        theta_opt = theta = np.log(1+np.exp(rho_opt))\n",
    "        \n",
    "        # kernel__k1__noise_level = noise of the data\n",
    "        # kernel__k2__k1__constant_value = aplitude\n",
    "        # kernel__k2__k2__length_scale = Matern length scales\n",
    "        \n",
    "        self.gp_.set_params(**{\"kernel__k1__noise_level\": np.abs(theta_opt[0]),\n",
    "                              \"kernel__k2__k1__constant_value\": np.abs(theta_opt[1]),\n",
    "                              \"kernel__k2__k2__length_scale\": theta_opt[2:]})\n",
    "        \n",
    "    def log_marginal_likelihood(self,rho):\n",
    "        theta = np.log(1+np.exp(rho))\n",
    "        theta = [theta[0],theta[1],theta[2:]]\n",
    "        return self.gp_.log_marginal_likelihood(theta)\n",
    "    \n",
    "    def log_prior_parameters(self, rho):\n",
    "        return np.sum(np.log([ss.norm(0, 1).pdf(rho_k) for rho_k in rho]))\n",
    "    \n",
    "    def log_joint_unnorm(self, rho):\n",
    "        return self.log_marginal_likelihood(rho) + self.log_prior_parameters(rho)\n",
    "        \n",
    "    def fit(self, X, y):\n",
    "        self.gp_.fit(X, y)\n",
    "    \n",
    "    def predict(self, X):\n",
    "        mu, sigma = self.gp_.predict(X, return_std=True)\n",
    "        return mu, sigma\n",
    "    \n",
    "    def get_params(self):\n",
    "        return self.gp_.get_params()"
   ]
  },
  {
   "cell_type": "code",
   "execution_count": 112,
   "metadata": {},
   "outputs": [],
   "source": [
    "class Slice_sampler():\n",
    "    \n",
    "    def __init__(self, num_iters, sigma, burn_in, gp):\n",
    "        self.num_iters = num_iters\n",
    "        self.sigma = sigma\n",
    "        self.burn_in = burn_in\n",
    "        self.gp = gp\n",
    "        \n",
    "    def sample(self, init, step_out=True):\n",
    "\n",
    "        D = len(init)\n",
    "        samples = np.zeros((D, self.num_iters))\n",
    "        \n",
    "        xx = init.copy()\n",
    "\n",
    "        for i in xrange(self.num_iters + self.burn_in):\n",
    "            perm = range(D)\n",
    "            np.random.shuffle(perm)\n",
    "            last_llh = self.gp.log_joint_unnorm(xx)\n",
    "\n",
    "            for d in perm:\n",
    "                llh0 = last_llh + np.log(np.random.rand())\n",
    "                rr = np.random.rand(1)\n",
    "                x_l = xx.copy()\n",
    "                x_l[d] = x_l[d] - rr * self.sigma[d]\n",
    "                x_r = xx.copy()\n",
    "                x_r[d] = x_r[d] + (1 - rr) * self.sigma[d]\n",
    "\n",
    "                if step_out:\n",
    "                    llh_l = self.gp.log_joint_unnorm(x_l)\n",
    "                    while llh_l > llh0:\n",
    "                        x_l[d] = x_l[d] - self.sigma[d]\n",
    "                        llh_l = self.gp.log_joint_unnorm(x_l)\n",
    "                    llh_r = self.gp.log_joint_unnorm(x_r)\n",
    "                    while llh_r > llh0:\n",
    "                        x_r[d] = x_r[d] + self.sigma[d]\n",
    "                        llh_r = self.gp.log_joint_unnorm(x_r)\n",
    "\n",
    "                x_cur = xx.copy()\n",
    "                while True:\n",
    "                    xd = np.array(np.random.rand() * (x_r[d] - x_l[d]) + x_l[d])\n",
    "                    x_cur[d] = xd.copy()\n",
    "                    last_llh = self.gp.log_joint_unnorm(x_cur)\n",
    "                    if last_llh > llh0:\n",
    "                        xx[d] = xd.copy()\n",
    "                        break\n",
    "                    elif xd > xx[d]:\n",
    "                        x_r[d] = xd\n",
    "                    elif xd < xx[d]:\n",
    "                        x_l[d] = xd\n",
    "                    else:\n",
    "                        raise RuntimeError('Slice sampler shrank too far.')\n",
    "                \n",
    "            if i == 0:\n",
    "                print \"burn-in\"\n",
    "            elif i > self.burn_in and i % 100 == 0: \n",
    "                print 'iteration', i - self.burn_in\n",
    "            \n",
    "            if i > self.burn_in:   \n",
    "                samples[:, i-self.burn_in] = xx.copy().ravel()\n",
    "        \n",
    "        plt.hist(samples[0])\n",
    "        plt.hist(samples[1])\n",
    "        plt.hist(samples[2])\n",
    "\n",
    "        return samples"
   ]
  },
  {
   "cell_type": "code",
   "execution_count": 113,
   "metadata": {},
   "outputs": [],
   "source": [
    "#X, y = make_regression(n_features = 3)"
   ]
  },
  {
   "cell_type": "code",
   "execution_count": 114,
   "metadata": {},
   "outputs": [],
   "source": [
    "#X_train, X_test, y_train, y_test = train_test_split(X, y, test_size = 0.3)"
   ]
  },
  {
   "cell_type": "code",
   "execution_count": 115,
   "metadata": {},
   "outputs": [
    {
     "data": {
      "text/plain": [
       "[<matplotlib.lines.Line2D at 0x1a1db8d5d0>]"
      ]
     },
     "execution_count": 115,
     "metadata": {},
     "output_type": "execute_result"
    },
    {
     "data": {
      "image/png": "[encoded data removed]",
      "text/plain": [
       "<matplotlib.figure.Figure at 0x1a1dd03f90>"
      ]
     },
     "metadata": {},
     "output_type": "display_data"
    }
   ],
   "source": [
    "X_train = np.linspace(-5,5,50)\n",
    "y_train = np.sin(X_train) + np.random.normal(loc = 0, scale = 0.5,size=50)\n",
    "plt.plot(X_train, y_train, \"p\")"
   ]
  },
  {
   "cell_type": "code",
   "execution_count": 116,
   "metadata": {},
   "outputs": [],
   "source": [
    "X_train = X_train.reshape([-1,1])"
   ]
  },
  {
   "cell_type": "code",
   "execution_count": 117,
   "metadata": {},
   "outputs": [],
   "source": [
    "kernel = kernels.Sum(kernels.WhiteKernel(),kernels.Product(kernels.ConstantKernel(),kernels.Matern(nu=5./2.)))\n",
    "gp = Gaussian_Process(kernel = kernel)"
   ]
  },
  {
   "cell_type": "code",
   "execution_count": 118,
   "metadata": {},
   "outputs": [
    {
     "name": "stdout",
     "output_type": "stream",
     "text": [
      "burn-in\n",
      "iteration 90\n",
      "iteration 190\n"
     ]
    },
    {
     "data": {
      "image/png": "[encoded data removed]",
      "text/plain": [
       "<matplotlib.figure.Figure at 0x1a1dd3f490>"
      ]
     },
     "metadata": {},
     "output_type": "display_data"
    }
   ],
   "source": [
    "gp.optimise_with_splice_sampling(initial_rho = np.array([1.,1.,1.]),\n",
    "                                 num_iters = 200,\n",
    "                                 sigma = np.array([1.,1.,1.]),\n",
    "                                 burn_in = 10,\n",
    "                                 X = X_train,\n",
    "                                 y = y_train)"
   ]
  },
  {
   "cell_type": "code",
   "execution_count": 119,
   "metadata": {},
   "outputs": [
    {
     "data": {
      "text/plain": [
       "{'alpha': 1e-10,\n",
       " 'copy_X_train': True,\n",
       " 'kernel': WhiteKernel(noise_level=0.111) + 0.682**2 * Matern(length_scale=0.844, nu=2.5),\n",
       " 'kernel__k1': WhiteKernel(noise_level=0.111),\n",
       " 'kernel__k1__noise_level': 0.11125754920707707,\n",
       " 'kernel__k1__noise_level_bounds': (1e-05, 100000.0),\n",
       " 'kernel__k2': 0.682**2 * Matern(length_scale=0.844, nu=2.5),\n",
       " 'kernel__k2__k1': 0.682**2,\n",
       " 'kernel__k2__k1__constant_value': 0.46491074835045793,\n",
       " 'kernel__k2__k1__constant_value_bounds': (1e-05, 100000.0),\n",
       " 'kernel__k2__k2': Matern(length_scale=0.844, nu=2.5),\n",
       " 'kernel__k2__k2__length_scale': array([ 0.84377329]),\n",
       " 'kernel__k2__k2__length_scale_bounds': (1e-05, 100000.0),\n",
       " 'kernel__k2__k2__nu': 2.5,\n",
       " 'n_restarts_optimizer': 0,\n",
       " 'normalize_y': True,\n",
       " 'optimizer': None,\n",
       " 'random_state': None}"
      ]
     },
     "execution_count": 119,
     "metadata": {},
     "output_type": "execute_result"
    }
   ],
   "source": [
    "gp.get_params()"
   ]
  },
  {
   "cell_type": "code",
   "execution_count": 120,
   "metadata": {},
   "outputs": [],
   "source": [
    "gp.fit(X_train, y_train)"
   ]
  },
  {
   "cell_type": "code",
   "execution_count": 121,
   "metadata": {},
   "outputs": [],
   "source": [
    "X_test = np.linspace(-7,7,50).reshape([-1,1])"
   ]
  },
  {
   "cell_type": "code",
   "execution_count": 122,
   "metadata": {},
   "outputs": [],
   "source": [
    "mu, sigma = gp.predict(X_test)"
   ]
  },
  {
   "cell_type": "code",
   "execution_count": 123,
   "metadata": {},
   "outputs": [],
   "source": [
    "#r2_score(y_true = y_test, y_pred = mu)"
   ]
  },
  {
   "cell_type": "code",
   "execution_count": 124,
   "metadata": {},
   "outputs": [
    {
     "data": {
      "text/plain": [
       "[<matplotlib.lines.Line2D at 0x1a1dbceb50>]"
      ]
     },
     "execution_count": 124,
     "metadata": {},
     "output_type": "execute_result"
    },
    {
     "data": {
      "image/png": "[encoded data removed]",
      "text/plain": [
       "<matplotlib.figure.Figure at 0x1a1dbce210>"
      ]
     },
     "metadata": {},
     "output_type": "display_data"
    }
   ],
   "source": [
    "plt.plot(X_test, mu)\n",
    "plt.plot(X_test, mu+sigma)\n",
    "plt.plot(X_test, mu-sigma)\n",
    "plt.plot(X_train, y_train, \"p\")"
   ]
  },
  {
   "cell_type": "code",
   "execution_count": null,
   "metadata": {},
   "outputs": [],
   "source": []
  },
  {
   "cell_type": "code",
   "execution_count": null,
   "metadata": {},
   "outputs": [],
   "source": []
  },
  {
   "cell_type": "code",
   "execution_count": null,
   "metadata": {},
   "outputs": [],
   "source": []
  },
  {
   "cell_type": "code",
   "execution_count": null,
   "metadata": {},
   "outputs": [],
   "source": []
  }
 ],
 "metadata": {
  "kernelspec": {
   "display_name": "Python 2",
   "language": "python",
   "name": "python2"
  },
  "language_info": {
   "codemirror_mode": {
    "name": "ipython",
    "version": 2
   },
   "file_extension": ".py",
   "mimetype": "text/x-python",
   "name": "python",
   "nbconvert_exporter": "python",
   "pygments_lexer": "ipython2",
   "version": "2.7.14"
  }
 },
 "nbformat": 4,
 "nbformat_minor": 2
}
