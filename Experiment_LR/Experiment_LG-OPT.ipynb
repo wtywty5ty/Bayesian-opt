{
 "cells": [
  {
   "cell_type": "code",
   "execution_count": 1,
   "metadata": {},
   "outputs": [],
   "source": [
    "import sys\n",
    "sys.path.insert(0, '../BO')"
   ]
  },
  {
   "cell_type": "code",
   "execution_count": 2,
   "metadata": {},
   "outputs": [],
   "source": [
    "from gp import *\n",
    "import numpy as np\n",
    "from sklearn.datasets import fetch_mldata\n",
    "from LG import *"
   ]
  },
  {
   "cell_type": "code",
   "execution_count": 7,
   "metadata": {},
   "outputs": [
    {
     "name": "stdout",
     "output_type": "stream",
     "text": [
      "Extracting /tmp/data/train-images-idx3-ubyte.gz\n",
      "Extracting /tmp/data/train-labels-idx1-ubyte.gz\n",
      "Extracting /tmp/data/t10k-images-idx3-ubyte.gz\n",
      "Extracting /tmp/data/t10k-labels-idx1-ubyte.gz\n"
     ]
    }
   ],
   "source": [
    "# Load and format the training and testing data\n",
    "mnist = input_data.read_data_sets(\"/tmp/data/\", one_hot=True)"
   ]
  },
  {
   "cell_type": "code",
   "execution_count": 8,
   "metadata": {},
   "outputs": [],
   "source": [
    "loss = train_logisitc_regression_(mnist)"
   ]
  },
  {
   "cell_type": "code",
   "execution_count": 13,
   "metadata": {},
   "outputs": [],
   "source": [
    "# set parameters\n",
    "bounds = np.array([[-15., 0.0], [5, 200], [20, 2000], [0, 1]])\n",
    "# maxeps specifies how many BOs we want to run\n",
    "maxeps = 10\n",
    "# n_iters is number of iterations we want for each run of BO\n",
    "n_iters = 100\n",
    "acqui_eva_num = 5\n",
    "n_pre_samples = 3\n",
    "greater_is_better = False\n",
    "y_list = list()\n",
    "coor_sigma = 1 * np.array([0.2,0.2,0.2,0.2,0.2,0.2])\n",
    "burn_in = 10\n",
    "input_dimension = 4\n",
    "mode = 'OPT'\n",
    "acqui_mode = 'OPT'\n",
    "acqui_sample_num = 3\n",
    "process_sample_mode = 'normal'\n",
    "prior_mode ='normal_prior'\n",
    "likelihood_mode = 'normal_likelihood'"
   ]
  },
  {
   "cell_type": "code",
   "execution_count": 14,
   "metadata": {},
   "outputs": [
    {
     "name": "stdout",
     "output_type": "stream",
     "text": [
      "Running 1 episode\n",
      "Start presampling...\n",
      "\tLearning rate: 0.000756432171516, training epochs: 20, batch size: 53, beta 0.644716979632\n",
      "\t\t Accuracy: 0.8196\n",
      "\tLearning rate: 0.534589615854, training epochs: 20, batch size: 451, beta 0.127232062917\n",
      "\t\t Accuracy: 0.7946\n",
      "\tLearning rate: 0.140495753702, training epochs: 20, batch size: 351, beta 0.26777389363\n",
      "\t\t Accuracy: 0.8262\n",
      "Presampling finished.\n",
      "\tLearning rate: 0.00127056380852, training epochs: 20, batch size: 1951, beta 0.694716006372\n",
      "\t\t Accuracy: 0.7647\n",
      "\tLearning rate: 0.005874793369, training epochs: 20, batch size: 281, beta 0.249576957924\n",
      "\t\t Accuracy: 0.8474\n",
      "\tLearning rate: 0.539166465519, training epochs: 20, batch size: 1941, beta 0.698768030213\n",
      "\t\t Accuracy: 0.4638\n",
      "\tLearning rate: 3.39142977388e-05, training epochs: 20, batch size: 489, beta 0.588436004093\n",
      "\t\t Accuracy: 0.6938\n",
      "\tLearning rate: 0.0135317263981, training epochs: 20, batch size: 809, beta 0.857222157516\n",
      "\t\t Accuracy: 0.8025\n",
      "\tLearning rate: 1.93967255301e-06, training epochs: 20, batch size: 1967, beta 0.295859751678\n",
      "\t\t Accuracy: 0.67\n",
      "\tLearning rate: 0.031938403187, training epochs: 20, batch size: 869, beta 0.679532323808\n",
      "\t\t Accuracy: 0.8167\n",
      "\tLearning rate: 0.00042006014644, training epochs: 20, batch size: 65, beta 0.564052042244\n",
      "\t\t Accuracy: 0.82\n",
      "\tLearning rate: 5.33863221294e-05, training epochs: 20, batch size: 1956, beta 0.723442804466\n",
      "\t\t Accuracy: 0.6808\n",
      "\tLearning rate: 2.62083700825e-06, training epochs: 20, batch size: 1829, beta 0.255548710301\n",
      "\t\t Accuracy: 0.6716\n",
      "\tLearning rate: 0.000417295914709, training epochs: 20, batch size: 631, beta 0.611224744995\n",
      "\t\t Accuracy: 0.7665\n",
      "\tLearning rate: 0.00447599986795, training epochs: 20, batch size: 843, beta 0.197332784248\n",
      "\t\t Accuracy: 0.8417\n",
      "\tLearning rate: 1.09562475187e-06, training epochs: 20, batch size: 744, beta 0.515873683257\n",
      "\t\t Accuracy: 0.6716\n",
      "\tLearning rate: 0.0364124250444, training epochs: 20, batch size: 1896, beta 0.679865116686\n",
      "\t\t Accuracy: 0.8184\n",
      "\tLearning rate: 0.00238554500609, training epochs: 20, batch size: 184, beta 0.777691940283\n"
     ]
    },
    {
     "ename": "KeyboardInterrupt",
     "evalue": "",
     "output_type": "error",
     "traceback": [
      "\u001b[0;31m---------------------------------------------------------------------------\u001b[0m",
      "\u001b[0;31mKeyboardInterrupt\u001b[0m                         Traceback (most recent call last)",
      "\u001b[0;32m<ipython-input-14-cd0161d3cc4d>\u001b[0m in \u001b[0;36m<module>\u001b[0;34m()\u001b[0m\n\u001b[1;32m     21\u001b[0m                                    \u001b[0mprocess_sample_mode\u001b[0m \u001b[0;34m=\u001b[0m \u001b[0mprocess_sample_mode\u001b[0m\u001b[0;34m,\u001b[0m\u001b[0;34m\u001b[0m\u001b[0m\n\u001b[1;32m     22\u001b[0m                                    \u001b[0mprior_mode\u001b[0m \u001b[0;34m=\u001b[0m \u001b[0mprior_mode\u001b[0m\u001b[0;34m,\u001b[0m\u001b[0;34m\u001b[0m\u001b[0m\n\u001b[0;32m---> 23\u001b[0;31m                                    likelihood_mode = likelihood_mode)\n\u001b[0m\u001b[1;32m     24\u001b[0m     \u001b[0my_train\u001b[0m \u001b[0;34m=\u001b[0m \u001b[0myp\u001b[0m\u001b[0;34m[\u001b[0m\u001b[0mn_pre_samples\u001b[0m\u001b[0;34m:\u001b[0m\u001b[0;34m]\u001b[0m\u001b[0;34m\u001b[0m\u001b[0m\n\u001b[1;32m     25\u001b[0m     \u001b[0;32mfor\u001b[0m \u001b[0midx\u001b[0m \u001b[0;32min\u001b[0m \u001b[0mrange\u001b[0m\u001b[0;34m(\u001b[0m\u001b[0mlen\u001b[0m\u001b[0;34m(\u001b[0m\u001b[0my_train\u001b[0m\u001b[0;34m)\u001b[0m\u001b[0;34m)\u001b[0m\u001b[0;34m:\u001b[0m\u001b[0;34m\u001b[0m\u001b[0m\n",
      "\u001b[0;32m/Users/TY/Documents/GitHub/Bayesian-opt/BO/gp.pyc\u001b[0m in \u001b[0;36mbayesian_optimisation\u001b[0;34m(coor_sigma, burn_in, input_dimension, n_iters, sample_loss, bounds, x0, n_pre_samples, acqui_eva_num, alpha, epsilon, greater_is_better, mode, acqui_mode, acqui_sample_num, process_sample_mode, prior_mode, likelihood_mode)\u001b[0m\n\u001b[1;32m    479\u001b[0m         \u001b[0;31m# Sample loss for new set of parameters\u001b[0m\u001b[0;34m\u001b[0m\u001b[0;34m\u001b[0m\u001b[0m\n\u001b[1;32m    480\u001b[0m         \u001b[0mstart\u001b[0m \u001b[0;34m=\u001b[0m \u001b[0mtime\u001b[0m\u001b[0;34m.\u001b[0m\u001b[0mclock\u001b[0m\u001b[0;34m(\u001b[0m\u001b[0;34m)\u001b[0m\u001b[0;34m\u001b[0m\u001b[0m\n\u001b[0;32m--> 481\u001b[0;31m         \u001b[0mfunc_value\u001b[0m \u001b[0;34m=\u001b[0m \u001b[0msample_loss\u001b[0m\u001b[0;34m(\u001b[0m\u001b[0mnext_sample\u001b[0m\u001b[0;34m)\u001b[0m\u001b[0;34m\u001b[0m\u001b[0m\n\u001b[0m\u001b[1;32m    482\u001b[0m         \u001b[0melapsed\u001b[0m \u001b[0;34m=\u001b[0m \u001b[0;34m(\u001b[0m\u001b[0mtime\u001b[0m\u001b[0;34m.\u001b[0m\u001b[0mclock\u001b[0m\u001b[0;34m(\u001b[0m\u001b[0;34m)\u001b[0m \u001b[0;34m-\u001b[0m \u001b[0mstart\u001b[0m\u001b[0;34m)\u001b[0m\u001b[0;34m\u001b[0m\u001b[0m\n\u001b[1;32m    483\u001b[0m \u001b[0;34m\u001b[0m\u001b[0m\n",
      "\u001b[0;32m/Users/TY/Documents/GitHub/Bayesian-opt/BO/LG.py\u001b[0m in \u001b[0;36mtrain_logisitc_regression_\u001b[0;34m(params)\u001b[0m\n\u001b[1;32m     51\u001b[0m                     \u001b[0;31m# Run optimization op (backprop) and cost op (to get loss value)\u001b[0m\u001b[0;34m\u001b[0m\u001b[0;34m\u001b[0m\u001b[0m\n\u001b[1;32m     52\u001b[0m                     _, c = sess.run([optimizer, cost], feed_dict={x: batch_xs,\n\u001b[0;32m---> 53\u001b[0;31m                                                                   y: batch_ys})\n\u001b[0m\u001b[1;32m     54\u001b[0m                     \u001b[0;31m# Compute average loss\u001b[0m\u001b[0;34m\u001b[0m\u001b[0;34m\u001b[0m\u001b[0m\n\u001b[1;32m     55\u001b[0m                     \u001b[0mavg_cost\u001b[0m \u001b[0;34m+=\u001b[0m \u001b[0mc\u001b[0m \u001b[0;34m/\u001b[0m \u001b[0mtotal_batch\u001b[0m\u001b[0;34m\u001b[0m\u001b[0m\n",
      "\u001b[0;32m/anaconda3/envs/Python2/lib/python2.7/site-packages/tensorflow/python/client/session.pyc\u001b[0m in \u001b[0;36mrun\u001b[0;34m(self, fetches, feed_dict, options, run_metadata)\u001b[0m\n\u001b[1;32m    903\u001b[0m     \u001b[0;32mtry\u001b[0m\u001b[0;34m:\u001b[0m\u001b[0;34m\u001b[0m\u001b[0m\n\u001b[1;32m    904\u001b[0m       result = self._run(None, fetches, feed_dict, options_ptr,\n\u001b[0;32m--> 905\u001b[0;31m                          run_metadata_ptr)\n\u001b[0m\u001b[1;32m    906\u001b[0m       \u001b[0;32mif\u001b[0m \u001b[0mrun_metadata\u001b[0m\u001b[0;34m:\u001b[0m\u001b[0;34m\u001b[0m\u001b[0m\n\u001b[1;32m    907\u001b[0m         \u001b[0mproto_data\u001b[0m \u001b[0;34m=\u001b[0m \u001b[0mtf_session\u001b[0m\u001b[0;34m.\u001b[0m\u001b[0mTF_GetBuffer\u001b[0m\u001b[0;34m(\u001b[0m\u001b[0mrun_metadata_ptr\u001b[0m\u001b[0;34m)\u001b[0m\u001b[0;34m\u001b[0m\u001b[0m\n",
      "\u001b[0;32m/anaconda3/envs/Python2/lib/python2.7/site-packages/tensorflow/python/client/session.pyc\u001b[0m in \u001b[0;36m_run\u001b[0;34m(self, handle, fetches, feed_dict, options, run_metadata)\u001b[0m\n\u001b[1;32m   1135\u001b[0m     \u001b[0;32mif\u001b[0m \u001b[0mfinal_fetches\u001b[0m \u001b[0;32mor\u001b[0m \u001b[0mfinal_targets\u001b[0m \u001b[0;32mor\u001b[0m \u001b[0;34m(\u001b[0m\u001b[0mhandle\u001b[0m \u001b[0;32mand\u001b[0m \u001b[0mfeed_dict_tensor\u001b[0m\u001b[0;34m)\u001b[0m\u001b[0;34m:\u001b[0m\u001b[0;34m\u001b[0m\u001b[0m\n\u001b[1;32m   1136\u001b[0m       results = self._do_run(handle, final_targets, final_fetches,\n\u001b[0;32m-> 1137\u001b[0;31m                              feed_dict_tensor, options, run_metadata)\n\u001b[0m\u001b[1;32m   1138\u001b[0m     \u001b[0;32melse\u001b[0m\u001b[0;34m:\u001b[0m\u001b[0;34m\u001b[0m\u001b[0m\n\u001b[1;32m   1139\u001b[0m       \u001b[0mresults\u001b[0m \u001b[0;34m=\u001b[0m \u001b[0;34m[\u001b[0m\u001b[0;34m]\u001b[0m\u001b[0;34m\u001b[0m\u001b[0m\n",
      "\u001b[0;32m/anaconda3/envs/Python2/lib/python2.7/site-packages/tensorflow/python/client/session.pyc\u001b[0m in \u001b[0;36m_do_run\u001b[0;34m(self, handle, target_list, fetch_list, feed_dict, options, run_metadata)\u001b[0m\n\u001b[1;32m   1327\u001b[0m       \u001b[0mtargets\u001b[0m \u001b[0;34m=\u001b[0m \u001b[0m_name_list\u001b[0m\u001b[0;34m(\u001b[0m\u001b[0mtarget_list\u001b[0m\u001b[0;34m)\u001b[0m\u001b[0;34m\u001b[0m\u001b[0m\n\u001b[1;32m   1328\u001b[0m \u001b[0;34m\u001b[0m\u001b[0m\n\u001b[0;32m-> 1329\u001b[0;31m     def _run_fn(session, feed_dict, fetch_list, target_list, options,\n\u001b[0m\u001b[1;32m   1330\u001b[0m                 run_metadata):\n\u001b[1;32m   1331\u001b[0m       \u001b[0;31m# Ensure any changes to the graph are reflected in the runtime.\u001b[0m\u001b[0;34m\u001b[0m\u001b[0;34m\u001b[0m\u001b[0m\n",
      "\u001b[0;31mKeyboardInterrupt\u001b[0m: "
     ]
    }
   ],
   "source": [
    "y_list = list()\n",
    "\n",
    "for i in range(n_iters):\n",
    "    y_list.append(list())\n",
    "\n",
    "\n",
    "for j in range(maxeps):\n",
    "    print ('Running %d episode' % (j + 1))\n",
    "    xp, yp = bayesian_optimisation(coor_sigma = coor_sigma, \n",
    "                                   burn_in = burn_in, \n",
    "                                   input_dimension = input_dimension,\n",
    "                                   n_iters = n_iters, \n",
    "                                   sample_loss = loss, \n",
    "                                   bounds = bounds, \n",
    "                                   n_pre_samples = n_pre_samples, \n",
    "                                   acqui_eva_num = acqui_eva_num,  \n",
    "                                   greater_is_better=greater_is_better, \n",
    "                                   mode = mode, \n",
    "                                   acqui_mode = acqui_mode, \n",
    "                                   acqui_sample_num = acqui_sample_num,   \n",
    "                                   process_sample_mode = process_sample_mode, \n",
    "                                   prior_mode = prior_mode, \n",
    "                                   likelihood_mode = likelihood_mode)\n",
    "    y_train = yp[n_pre_samples:]\n",
    "    for idx in range(len(y_train)):\n",
    "        if idx == 0:\n",
    "            y_list[idx].append(y_train[idx])\n",
    "        else:\n",
    "            y_list[idx].append(np.min(y_train[:idx]))"
   ]
  },
  {
   "cell_type": "code",
   "execution_count": null,
   "metadata": {},
   "outputs": [],
   "source": [
    "mean_list, std_list = return_mean_std(y_list)"
   ]
  },
  {
   "cell_type": "code",
   "execution_count": null,
   "metadata": {},
   "outputs": [],
   "source": [
    "import matplotlib.pyplot as plt\n",
    "x = [i+1 for i in range(len(y_list))]\n",
    "\n",
    "plt.errorbar(x, mean_list, yerr = std_list, fmt = '-')\n",
    "\n",
    "plt.show()"
   ]
  },
  {
   "cell_type": "code",
   "execution_count": null,
   "metadata": {},
   "outputs": [],
   "source": [
    "import pickle\n",
    "opt_dict = {}\n",
    "opt_dict['y_list'] = y_list\n",
    "with open('LG_OPT.pkl','wb') as file:\n",
    "    pickle.dump(opt_dict, file)"
   ]
  },
  {
   "cell_type": "code",
   "execution_count": null,
   "metadata": {},
   "outputs": [],
   "source": [
    "with open('LG_OPT.pkl', 'rb') as pickle_file:\n",
    "    data1 = pickle.load(pickle_file)"
   ]
  }
 ],
 "metadata": {
  "kernelspec": {
   "display_name": "Python 2",
   "language": "python",
   "name": "python2"
  },
  "language_info": {
   "codemirror_mode": {
    "name": "ipython",
    "version": 2
   },
   "file_extension": ".py",
   "mimetype": "text/x-python",
   "name": "python",
   "nbconvert_exporter": "python",
   "pygments_lexer": "ipython2",
   "version": "2.7.14"
  }
 },
 "nbformat": 4,
 "nbformat_minor": 2
}
