{
 "cells": [
  {
   "cell_type": "code",
   "execution_count": 2,
   "metadata": {},
   "outputs": [],
   "source": [
    "import sys\n",
    "sys.path.insert(0, '../BO')"
   ]
  },
  {
   "cell_type": "code",
   "execution_count": 4,
   "metadata": {},
   "outputs": [],
   "source": [
    "from hyperopt import hp\n",
    "import numpy as np\n",
    "from sklearn.datasets import fetch_mldata\n",
    "from LG import *"
   ]
  },
  {
   "cell_type": "code",
   "execution_count": 5,
   "metadata": {},
   "outputs": [
    {
     "name": "stdout",
     "output_type": "stream",
     "text": [
      "Extracting /tmp/data/train-images-idx3-ubyte.gz\n",
      "Extracting /tmp/data/train-labels-idx1-ubyte.gz\n",
      "Extracting /tmp/data/t10k-images-idx3-ubyte.gz\n",
      "Extracting /tmp/data/t10k-labels-idx1-ubyte.gz\n"
     ]
    }
   ],
   "source": [
    "# Load and format the training and testing data\n",
    "mnist = input_data.read_data_sets(\"/tmp/data/\", one_hot=True)"
   ]
  },
  {
   "cell_type": "code",
   "execution_count": 6,
   "metadata": {},
   "outputs": [],
   "source": [
    "loss = train_logisitc_regression_(mnist)"
   ]
  },
  {
   "cell_type": "code",
   "execution_count": 7,
   "metadata": {},
   "outputs": [],
   "source": [
    "space = [hp.uniform('p1', -15, 0), hp.uniform('p2', 5, 200),hp.uniform('p3', 20, 2000), hp.uniform('p4', 0, 1)]"
   ]
  },
  {
   "cell_type": "code",
   "execution_count": null,
   "metadata": {},
   "outputs": [
    {
     "name": "stdout",
     "output_type": "stream",
     "text": [
      "Running 1 episode\n",
      "\tLearning rate: 0.0219714972227, training epochs: 138, batch size: 1960, beta 0.6813135780068078\n",
      "\t\t Accuracy: 0.8096\n",
      "\tLearning rate: 7.13146142685e-07, training epochs: 80, batch size: 903, beta 0.7929258638643292\n",
      "\t\t Accuracy: 0.6718\n",
      "\tLearning rate: 6.46179699997e-05, training epochs: 94, batch size: 1006, beta 0.3536766475687949\n",
      "\t\t Accuracy: 0.7401\n",
      "\tLearning rate: 0.813581177548, training epochs: 23, batch size: 53, beta 0.565238914215528\n",
      "\t\t Accuracy: 0.3017\n",
      "\tLearning rate: 0.000540298545212, training epochs: 39, batch size: 1293, beta 0.47723035358814747\n",
      "\t\t Accuracy: 0.7784\n",
      "\tLearning rate: 0.0290195842107, training epochs: 121, batch size: 1075, beta 0.3554815738392414\n",
      "\t\t Accuracy: 0.8332\n",
      "\tLearning rate: 2.24830010639e-06, training epochs: 90, batch size: 1233, beta 0.9181184077469786\n",
      "\t\t Accuracy: 0.6736\n",
      "\tLearning rate: 0.00044284490172, training epochs: 194, batch size: 1791, beta 0.26416981124096117\n",
      "\t\t Accuracy: 0.8197\n",
      "\tLearning rate: 0.00877195543343, training epochs: 55, batch size: 1152, beta 0.5933887715048816\n",
      "\t\t Accuracy: 0.8207\n",
      "\tLearning rate: 3.54923243285e-06, training epochs: 67, batch size: 728, beta 0.504329134348214\n",
      "\t\t Accuracy: 0.6778\n",
      "\tLearning rate: 3.77024742868e-07, training epochs: 105, batch size: 1747, beta 0.13442735479710854\n",
      "\t\t Accuracy: 0.6712\n",
      "\tLearning rate: 0.00438036376648, training epochs: 156, batch size: 1165, beta 0.2951787936286786\n",
      "\t\t Accuracy: 0.8422\n",
      "\tLearning rate: 0.00129706221162, training epochs: 65, batch size: 31, beta 0.4891917818227117\n",
      "\t\t Accuracy: 0.8218\n",
      "\tLearning rate: 2.61877923196e-06, training epochs: 184, batch size: 1636, beta 0.8027245847858422\n",
      "\t\t Accuracy: 0.6767\n",
      "\tLearning rate: 1.44640429985e-05, training epochs: 188, batch size: 35, beta 0.32320915243426496\n"
     ]
    }
   ],
   "source": [
    "from hyperopt import fmin, tpe, hp, Trials\n",
    "y_list = list()\n",
    "\n",
    "for i in range(60):\n",
    "    y_list.append(list())\n",
    "    \n",
    "for j in range(10):\n",
    "    y_train = list()\n",
    "    print ('Running %d episode' % (j + 1))\n",
    "    trials = Trials()\n",
    "    best = fmin(fn=loss, space=space, algo=tpe.suggest, max_evals=60, trials=trials)\n",
    "    for i in range(60):\n",
    "       y_train.append(trials.results[i]['loss'])\n",
    "    \n",
    "    \n",
    "    for idx in range(len(y_train)):\n",
    "        if idx == 0:\n",
    "            y_list[idx].append(y_train[idx])\n",
    "        else:\n",
    "            y_list[idx].append(np.min(y_train[:idx]))"
   ]
  },
  {
   "cell_type": "code",
   "execution_count": null,
   "metadata": {},
   "outputs": [],
   "source": [
    "def return_mean_std(y_list):\n",
    "    mean_list = list()\n",
    "    std_list = list()\n",
    "    for one_list in y_list:\n",
    "        mean_list.append(np.mean(one_list))\n",
    "        std_list.append(np.std(one_list))\n",
    "    return mean_list, std_list\n",
    "mean_list_TPA, std_list_TPA = return_mean_std(y_list)"
   ]
  },
  {
   "cell_type": "code",
   "execution_count": null,
   "metadata": {},
   "outputs": [],
   "source": [
    "import matplotlib.pyplot as plt\n",
    "%matplotlib inline\n",
    "x_TPA = [i+1 for i in range(len(y_list))]\n",
    "\n",
    "plt.errorbar(x_TPA, mean_list_TPA, yerr = std_list_TPA, fmt = '-')\n",
    "\n",
    "plt.show()"
   ]
  },
  {
   "cell_type": "code",
   "execution_count": null,
   "metadata": {},
   "outputs": [],
   "source": [
    "import pickle\n",
    "tpa_dict = {}\n",
    "tpa_dict['y_list'] = y_list\n",
    "with open('lr_tpa.pkl','wb') as file:\n",
    "    pickle.dump(tpa_dict, file)"
   ]
  },
  {
   "cell_type": "code",
   "execution_count": null,
   "metadata": {},
   "outputs": [],
   "source": [
    "with open('lr_tpa.pkl', 'rb') as pickle_file:\n",
    "    data1 = pickle.load(pickle_file)"
   ]
  }
 ],
 "metadata": {
  "kernelspec": {
   "display_name": "Python 3",
   "language": "python",
   "name": "python3"
  },
  "language_info": {
   "codemirror_mode": {
    "name": "ipython",
    "version": 3
   },
   "file_extension": ".py",
   "mimetype": "text/x-python",
   "name": "python",
   "nbconvert_exporter": "python",
   "pygments_lexer": "ipython3",
   "version": "3.5.4"
  }
 },
 "nbformat": 4,
 "nbformat_minor": 2
}
