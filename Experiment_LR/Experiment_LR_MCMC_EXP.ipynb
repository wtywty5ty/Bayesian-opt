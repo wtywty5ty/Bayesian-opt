{
 "cells": [
  {
   "cell_type": "code",
   "execution_count": 1,
   "metadata": {},
   "outputs": [
    {
     "name": "stdout",
     "output_type": "stream",
     "text": [
      "Extracting /tmp/data/train-images-idx3-ubyte.gz\n",
      "Extracting /tmp/data/train-labels-idx1-ubyte.gz\n",
      "Extracting /tmp/data/t10k-images-idx3-ubyte.gz\n",
      "Extracting /tmp/data/t10k-labels-idx1-ubyte.gz\n"
     ]
    }
   ],
   "source": [
    "import sys\n",
    "sys.path.insert(0, '../BO')\n",
    "\n",
    "from gp import *\n",
    "import numpy as np\n",
    "from sklearn.datasets import fetch_mldata\n",
    "from LG import *# Load and format the training and testing data\n",
    "\n",
    "mnist = input_data.read_data_sets(\"/tmp/data/\", one_hot=True)\n",
    "\n",
    "loss = train_logisitc_regression_(mnist)"
   ]
  },
  {
   "cell_type": "code",
   "execution_count": 2,
   "metadata": {},
   "outputs": [],
   "source": [
    "# set parameters\n",
    "bounds = np.array([[-15., 0.0], [5, 200], [20, 2000], [0, 1]])\n",
    "# maxeps specifies how many BOs we want to run\n",
    "maxeps = 10\n",
    "# n_iters is number of iterations we want for each run of BO\n",
    "n_iters = 100\n",
    "acqui_eva_num = 5\n",
    "n_pre_samples = 3\n",
    "greater_is_better = False\n",
    "y_list = list()\n",
    "coor_sigma = 1 * np.array([0.2,0.2,0.2,0.2,0.2,0.2])\n",
    "burn_in = 10\n",
    "input_dimension = 4\n",
    "mode = 'MAP'\n",
    "acqui_mode = 'MCMC'\n",
    "acqui_sample_num = 5\n",
    "process_sample_mode = 'abs'\n",
    "prior_mode ='exp_prior'\n",
    "likelihood_mode = 'normal_likelihood'"
   ]
  },
  {
   "cell_type": "code",
   "execution_count": 3,
   "metadata": {},
   "outputs": [
    {
     "name": "stdout",
     "output_type": "stream",
     "text": [
      "Running 1 episode\n",
      "Start presampling...\n",
      "\tLearning rate: 0.165351901942, training epochs: 190, batch size: 274, beta 0.788208798816\n",
      "\t\t Accuracy: 0.7366\n",
      "\tLearning rate: 9.16248436286e-06, training epochs: 76, batch size: 407, beta 0.358124901572\n",
      "\t\t Accuracy: 0.6977\n",
      "\tLearning rate: 0.00857114050219, training epochs: 105, batch size: 1829, beta 0.599358128344\n",
      "\t\t Accuracy: 0.8197\n",
      "Presampling finished.\n",
      "\tLearning rate: 1.52708894483e-06, training epochs: 178, batch size: 1213, beta 0.742136405712\n",
      "\t\t Accuracy: 0.6748\n",
      "\tLearning rate: 0.0142908939349, training epochs: 171, batch size: 1461, beta 0.0909823586856\n",
      "\t\t Accuracy: 0.8754\n",
      "\tLearning rate: 4.50198884437e-06, training epochs: 23, batch size: 1208, beta 0.94304639119\n",
      "\t\t Accuracy: 0.6718\n",
      "\tLearning rate: 5.93108770415e-07, training epochs: 141, batch size: 1361, beta 0.305288590825\n",
      "\t\t Accuracy: 0.6721\n",
      "\tLearning rate: 6.43251166522e-06, training epochs: 189, batch size: 202, beta 0.322778252142\n"
     ]
    },
    {
     "ename": "KeyboardInterrupt",
     "evalue": "",
     "output_type": "error",
     "traceback": [
      "\u001b[0;31m---------------------------------------------------------------------------\u001b[0m",
      "\u001b[0;31mKeyboardInterrupt\u001b[0m                         Traceback (most recent call last)",
      "\u001b[0;32m<ipython-input-3-cd0161d3cc4d>\u001b[0m in \u001b[0;36m<module>\u001b[0;34m()\u001b[0m\n\u001b[1;32m     21\u001b[0m                                    \u001b[0mprocess_sample_mode\u001b[0m \u001b[0;34m=\u001b[0m \u001b[0mprocess_sample_mode\u001b[0m\u001b[0;34m,\u001b[0m\u001b[0;34m\u001b[0m\u001b[0m\n\u001b[1;32m     22\u001b[0m                                    \u001b[0mprior_mode\u001b[0m \u001b[0;34m=\u001b[0m \u001b[0mprior_mode\u001b[0m\u001b[0;34m,\u001b[0m\u001b[0;34m\u001b[0m\u001b[0m\n\u001b[0;32m---> 23\u001b[0;31m                                    likelihood_mode = likelihood_mode)\n\u001b[0m\u001b[1;32m     24\u001b[0m     \u001b[0my_train\u001b[0m \u001b[0;34m=\u001b[0m \u001b[0myp\u001b[0m\u001b[0;34m[\u001b[0m\u001b[0mn_pre_samples\u001b[0m\u001b[0;34m:\u001b[0m\u001b[0;34m]\u001b[0m\u001b[0;34m\u001b[0m\u001b[0m\n\u001b[1;32m     25\u001b[0m     \u001b[0;32mfor\u001b[0m \u001b[0midx\u001b[0m \u001b[0;32min\u001b[0m \u001b[0mrange\u001b[0m\u001b[0;34m(\u001b[0m\u001b[0mlen\u001b[0m\u001b[0;34m(\u001b[0m\u001b[0my_train\u001b[0m\u001b[0;34m)\u001b[0m\u001b[0;34m)\u001b[0m\u001b[0;34m:\u001b[0m\u001b[0;34m\u001b[0m\u001b[0m\n",
      "\u001b[0;32m/Users/TY/Documents/GitHub/Bayesian-opt/BO/gp.pyc\u001b[0m in \u001b[0;36mbayesian_optimisation\u001b[0;34m(coor_sigma, burn_in, input_dimension, n_iters, sample_loss, bounds, x0, n_pre_samples, acqui_eva_num, alpha, epsilon, greater_is_better, mode, acqui_mode, acqui_sample_num, process_sample_mode, prior_mode, likelihood_mode)\u001b[0m\n\u001b[1;32m    479\u001b[0m         \u001b[0;31m# Sample loss for new set of parameters\u001b[0m\u001b[0;34m\u001b[0m\u001b[0;34m\u001b[0m\u001b[0m\n\u001b[1;32m    480\u001b[0m         \u001b[0mstart\u001b[0m \u001b[0;34m=\u001b[0m \u001b[0mtime\u001b[0m\u001b[0;34m.\u001b[0m\u001b[0mclock\u001b[0m\u001b[0;34m(\u001b[0m\u001b[0;34m)\u001b[0m\u001b[0;34m\u001b[0m\u001b[0m\n\u001b[0;32m--> 481\u001b[0;31m         \u001b[0mfunc_value\u001b[0m \u001b[0;34m=\u001b[0m \u001b[0msample_loss\u001b[0m\u001b[0;34m(\u001b[0m\u001b[0mnext_sample\u001b[0m\u001b[0;34m)\u001b[0m\u001b[0;34m\u001b[0m\u001b[0m\n\u001b[0m\u001b[1;32m    482\u001b[0m         \u001b[0melapsed\u001b[0m \u001b[0;34m=\u001b[0m \u001b[0;34m(\u001b[0m\u001b[0mtime\u001b[0m\u001b[0;34m.\u001b[0m\u001b[0mclock\u001b[0m\u001b[0;34m(\u001b[0m\u001b[0;34m)\u001b[0m \u001b[0;34m-\u001b[0m \u001b[0mstart\u001b[0m\u001b[0;34m)\u001b[0m\u001b[0;34m\u001b[0m\u001b[0m\n\u001b[1;32m    483\u001b[0m \u001b[0;34m\u001b[0m\u001b[0m\n",
      "\u001b[0;32m/Users/TY/Documents/GitHub/Bayesian-opt/BO/LG.pyc\u001b[0m in \u001b[0;36mtrain_logisitc_regression_\u001b[0;34m(params)\u001b[0m\n\u001b[1;32m     53\u001b[0m                                                                   y: batch_ys})\n\u001b[1;32m     54\u001b[0m                     \u001b[0;31m# Compute average loss\u001b[0m\u001b[0;34m\u001b[0m\u001b[0;34m\u001b[0m\u001b[0m\n\u001b[0;32m---> 55\u001b[0;31m                     \u001b[0mavg_cost\u001b[0m \u001b[0;34m+=\u001b[0m \u001b[0mc\u001b[0m \u001b[0;34m/\u001b[0m \u001b[0mtotal_batch\u001b[0m\u001b[0;34m\u001b[0m\u001b[0m\n\u001b[0m\u001b[1;32m     56\u001b[0m                 \u001b[0;31m# Display logs per epoch step\u001b[0m\u001b[0;34m\u001b[0m\u001b[0;34m\u001b[0m\u001b[0m\n\u001b[1;32m     57\u001b[0m                 \u001b[0;31m#if (epoch+1) % display_step == 0:\u001b[0m\u001b[0;34m\u001b[0m\u001b[0;34m\u001b[0m\u001b[0m\n",
      "\u001b[0;31mKeyboardInterrupt\u001b[0m: "
     ]
    }
   ],
   "source": [
    "y_list = list()\n",
    "\n",
    "for i in range(n_iters):\n",
    "    y_list.append(list())\n",
    "\n",
    "\n",
    "for j in range(maxeps):\n",
    "    print ('Running %d episode' % (j + 1))\n",
    "    xp, yp = bayesian_optimisation(coor_sigma = coor_sigma, \n",
    "                                   burn_in = burn_in, \n",
    "                                   input_dimension = input_dimension,\n",
    "                                   n_iters = n_iters, \n",
    "                                   sample_loss = loss, \n",
    "                                   bounds = bounds, \n",
    "                                   n_pre_samples = n_pre_samples, \n",
    "                                   acqui_eva_num = acqui_eva_num,  \n",
    "                                   greater_is_better=greater_is_better, \n",
    "                                   mode = mode, \n",
    "                                   acqui_mode = acqui_mode, \n",
    "                                   acqui_sample_num = acqui_sample_num,   \n",
    "                                   process_sample_mode = process_sample_mode, \n",
    "                                   prior_mode = prior_mode, \n",
    "                                   likelihood_mode = likelihood_mode)\n",
    "    y_train = yp[n_pre_samples:]\n",
    "    for idx in range(len(y_train)):\n",
    "        if idx == 0:\n",
    "            y_list[idx].append(y_train[idx])\n",
    "        else:\n",
    "            y_list[idx].append(np.min(y_train[:idx]))"
   ]
  },
  {
   "cell_type": "code",
   "execution_count": null,
   "metadata": {},
   "outputs": [],
   "source": [
    "mean_list, std_list = return_mean_std(y_list)"
   ]
  },
  {
   "cell_type": "code",
   "execution_count": null,
   "metadata": {},
   "outputs": [],
   "source": [
    "import matplotlib.pyplot as plt\n",
    "x = [i+1 for i in range(len(y_list))]\n",
    "\n",
    "plt.errorbar(x, mean_list, yerr = std_list, fmt = '-')\n",
    "\n",
    "plt.show()"
   ]
  },
  {
   "cell_type": "code",
   "execution_count": null,
   "metadata": {},
   "outputs": [],
   "source": [
    "import pickle\n",
    "opt_dict = {}\n",
    "opt_dict['y_list'] = y_list\n",
    "with open('LR_MCMC_EXP.pkl','wb') as file:\n",
    "    pickle.dump(opt_dict, file)"
   ]
  },
  {
   "cell_type": "code",
   "execution_count": null,
   "metadata": {},
   "outputs": [],
   "source": [
    "with open('LR_MCMC_EXP.pkl', 'rb') as pickle_file:\n",
    "    data1 = pickle.load(pickle_file)"
   ]
  }
 ],
 "metadata": {
  "kernelspec": {
   "display_name": "Python 2",
   "language": "python",
   "name": "python2"
  },
  "language_info": {
   "codemirror_mode": {
    "name": "ipython",
    "version": 2
   },
   "file_extension": ".py",
   "mimetype": "text/x-python",
   "name": "python",
   "nbconvert_exporter": "python",
   "pygments_lexer": "ipython2",
   "version": "2.7.14"
  }
 },
 "nbformat": 4,
 "nbformat_minor": 2
}
