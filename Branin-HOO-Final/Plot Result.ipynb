{
 "cells": [
  {
   "cell_type": "code",
   "execution_count": 23,
   "metadata": {},
   "outputs": [],
   "source": [
    "import pickle\n",
    "import numpy as np\n",
    "import matplotlib.pyplot as plt\n",
    "def plot_data(mean_list, std_list, legend_list, color_list, y_label, x_label, title, legend_setting, a):\n",
    "    plt.xlabel(x_label)\n",
    "    plt.ylabel(y_label)\n",
    "    plt.title(title)\n",
    "    x = [i + 1 for i in range(len(mean_list[0]))]\n",
    "    for i in range(len(mean_list)):\n",
    "        legend = legend_list[i]\n",
    "        one_color = color_list[i]\n",
    "        one_mean = mean_list[i]\n",
    "        one_std = std_list[i]\n",
    "        plt.errorbar(x, one_mean, yerr = one_std, fmt = '-', color = one_color, label = legend)\n",
    "        \n",
    "    if legend_setting == 'outside':  \n",
    "        plt.legend(bbox_to_anchor=(a, 1), loc='upper right', ncol=1)\n",
    "    else:\n",
    "        plt.legend()\n",
    "    plt.show()"
   ]
  },
  {
   "cell_type": "code",
   "execution_count": 4,
   "metadata": {},
   "outputs": [],
   "source": [
    "def return_mean_std(y_list):\n",
    "    mean_list = list()\n",
    "    std_list = list()\n",
    "    for one_list in y_list:\n",
    "        mean_list.append(np.mean(one_list))\n",
    "        std_list.append(np.std(one_list))\n",
    "    return mean_list, std_list"
   ]
  },
  {
   "cell_type": "code",
   "execution_count": 25,
   "metadata": {},
   "outputs": [
    {
     "data": {
      "image/png": "[encoded data removed]",
      "text/plain": [
       "<matplotlib.figure.Figure at 0x10887ef98>"
      ]
     },
     "metadata": {},
     "output_type": "display_data"
    }
   ],
   "source": [
    "mean_list = list()\n",
    "std_list = list()\n",
    "legend_list = list()\n",
    "with open('opt.pkl', 'rb') as pickle_file:\n",
    "    opt_res = pickle.load(pickle_file)\n",
    "mean_list_1, std_list_1 = return_mean_std(opt_res['y_list'])\n",
    "mean_list.append(mean_list_1)\n",
    "std_list.append(std_list_1)\n",
    "\n",
    "\n",
    "with open('branin_exp_2.pkl', 'rb') as pickle_file:\n",
    "    exp_2_res = pickle.load(pickle_file)\n",
    "mean_list_1, std_list_1 = return_mean_std(exp_2_res['y_list'])\n",
    "mean_list.append(mean_list_1)\n",
    "std_list.append(std_list_1)\n",
    "\n",
    "\n",
    "with open('branin_exp_3.pkl', 'rb') as pickle_file:\n",
    "    exp_3_res = pickle.load(pickle_file)\n",
    "mean_list_1, std_list_1 = return_mean_std(exp_3_res['y_list'])\n",
    "mean_list.append(mean_list_1)\n",
    "std_list.append(std_list_1)\n",
    "\n",
    "legend_list = [r'opt',r'exp2',r'exp3']\n",
    "\n",
    "color_list = ['b','g','r', '']\n",
    "y_label = 'Function Value'\n",
    "x_label = 'Iteration'\n",
    "title = ''\n",
    "\n",
    "\n",
    "plot_data(mean_list, std_list, legend_list, color_list, y_label, x_label, title, legend_setting = 'None', a = 0)"
   ]
  },
  {
   "cell_type": "code",
   "execution_count": null,
   "metadata": {},
   "outputs": [],
   "source": []
  },
  {
   "cell_type": "code",
   "execution_count": null,
   "metadata": {},
   "outputs": [],
   "source": []
  },
  {
   "cell_type": "code",
   "execution_count": null,
   "metadata": {},
   "outputs": [],
   "source": []
  },
  {
   "cell_type": "code",
   "execution_count": null,
   "metadata": {},
   "outputs": [],
   "source": []
  }
 ],
 "metadata": {
  "kernelspec": {
   "display_name": "Python 3",
   "language": "python",
   "name": "python3"
  },
  "language_info": {
   "codemirror_mode": {
    "name": "ipython",
    "version": 3
   },
   "file_extension": ".py",
   "mimetype": "text/x-python",
   "name": "python",
   "nbconvert_exporter": "python",
   "pygments_lexer": "ipython3",
   "version": "3.5.2"
  }
 },
 "nbformat": 4,
 "nbformat_minor": 2
}
